{
  "cells": [
    {
      "cell_type": "code",
      "execution_count": 2,
      "id": "763a5694",
      "metadata": {
        "id": "763a5694"
      },
      "outputs": [],
      "source": [
        "import pandas as pd\n",
        "from transformers import pipeline, AutoTokenizer\n",
        "from prettytable import PrettyTable\n"
      ]
    },
    {
      "cell_type": "code",
      "execution_count": 3,
      "id": "ed7bbeae",
      "metadata": {
        "colab": {
          "base_uri": "https://localhost:8080/",
          "height": 206
        },
        "id": "ed7bbeae",
        "outputId": "058549ec-0df4-4189-9704-4f1fd5c21cc5"
      },
      "outputs": [
        {
          "data": {
            "application/vnd.microsoft.datawrangler.viewer.v0+json": {
              "columns": [
                {
                  "name": "index",
                  "rawType": "int64",
                  "type": "integer"
                },
                {
                  "name": "prompt",
                  "rawType": "object",
                  "type": "string"
                },
                {
                  "name": "provider",
                  "rawType": "object",
                  "type": "string"
                },
                {
                  "name": "temperature",
                  "rawType": "int64",
                  "type": "integer"
                },
                {
                  "name": "top_p",
                  "rawType": "float64",
                  "type": "float"
                },
                {
                  "name": "max_tokens",
                  "rawType": "int64",
                  "type": "integer"
                },
                {
                  "name": "statement",
                  "rawType": "object",
                  "type": "string"
                },
                {
                  "name": "extremity_score",
                  "rawType": "float64",
                  "type": "float"
                }
              ],
              "ref": "13badb69-207a-49b3-b5b8-c9d785ab09bf",
              "rows": [
                [
                  "0",
                  "[{'role': 'system', 'content': 'You are a EU parliament representative.'}, {'role': 'user', 'content': '[Unique ID: 0e198c53-e7ae-49c3-bea7-5cc6949825b3] Generate one unique debate contribution for the following topic: A EU response to the 2025 Trump administrations trade measures, and global trade opportunities for the EU. Return only the statement without any line-shifts, special signs or additional information.'}]",
                  "chatgpt",
                  "1",
                  "0.8",
                  "400",
                  "While the 2025 Trump administration's trade measures may appear challenging, I firmly believe that they also present an opportunity for the European Union to reinforce its trade relationships with other global partners. Our response should not be one of retaliation, but one of strategic realignment. We should deepen our engagements with emerging markets in Asia, Africa, and South America, fostering mutual growth and cooperation. In doing so, we can create a more diversified, resilient, and sustainable trade ecosystem that can withstand unilateral trade disruptions. This is the moment for the EU to assert its commitment to free and fair trade on the global stage.",
                  "-0.6802797317504883"
                ],
                [
                  "1",
                  "[{'role': 'system', 'content': 'You are a EU parliament representative.'}, {'role': 'user', 'content': '[Unique ID: a5725c01-10fc-4997-8f60-1d178065d1cd] Generate one unique debate contribution for the following topic: A EU response to the 2025 Trump administrations trade measures, and global trade opportunities for the EU. Return only the statement without any line-shifts, special signs or additional information.'}]",
                  "chatgpt",
                  "1",
                  "0.8",
                  "400",
                  "In response to the 2025 Trump administration's trade measures, I believe the European Union must adopt a balanced approach, advocating for free and fair trade policies. We must not shy away from engaging in critical dialogues and negotiations with our American counterparts, while also exploring and expanding our global trade opportunities. The EU, with its economic prowess and influence, has the capacity to foster stronger trade alliances with emerging markets in Asia, Africa, and Latin America. These alliances can not only help us mitigate any adverse effects from the US trade measures but also promote sustainable development in these regions, aligning with our values of global solidarity and shared prosperity.",
                  "-0.8326047658920288"
                ],
                [
                  "2",
                  "[{'role': 'system', 'content': 'You are a EU parliament representative.'}, {'role': 'user', 'content': '[Unique ID: e7d82734-41e9-4c76-a054-1ee056f9480a] Generate one unique debate contribution for the following topic: A EU response to the 2025 Trump administrations trade measures, and global trade opportunities for the EU. Return only the statement without any line-shifts, special signs or additional information.'}]",
                  "chatgpt",
                  "1",
                  "0.8",
                  "400",
                  "While we, as the European Union, respect the autonomy of the 2025 Trump administration to formulate its trade measures, it's imperative that we respond in a manner that safeguards the interests of our member nations. We must strive for a balanced approach, which while acknowledging the U.S. as an important trade partner, also takes into account the potential negative impacts of such measures on our economies. In the face of this, we should not overlook the global trade opportunities that are presenting themselves. Emerging markets in Asia, Africa, and Latin America offer promising prospects that we should capitalize on. Therefore, I propose that we double down on our efforts to strengthen our trade ties with these regions. This two-pronged approach, of a measured response to the Trump administration and a proactive pursuit of new global trade opportunities, would ensure the sustained growth and prosperity of our Union.",
                  "-0.0471956618130207"
                ],
                [
                  "3",
                  "[{'role': 'system', 'content': 'You are a EU parliament representative.'}, {'role': 'user', 'content': '[Unique ID: 96d754ef-88a7-44d7-afc4-660a30d49e8c] Generate one unique debate contribution for the following topic: A EU response to the 2025 Trump administrations trade measures, and global trade opportunities for the EU. Return only the statement without any line-shifts, special signs or additional information.'}]",
                  "chatgpt",
                  "1",
                  "0.8",
                  "400",
                  "Thank you, Chair. In response to the 2025 Trump administration's trade measures, I would like to propose that the European Union needs to strategically pivot our trade policies. These measures have revealed the importance of diversifying our trading partners, reducing our over-reliance on any single economy. This is an opportunity for the EU to expand and strengthen trade relationships with emerging markets in Africa, Latin America and Asia, promoting sustainable growth and fostering mutual economic benefits. Let us embrace this as an opportunity to promote our standards in terms of sustainability, human rights, and fair competition globally. The world is bigger than the US, and so should be our trade horizons.",
                  "-0.5465976595878601"
                ],
                [
                  "4",
                  "[{'role': 'system', 'content': 'You are a EU parliament representative.'}, {'role': 'user', 'content': '[Unique ID: ded5f911-451c-4d93-937c-699e0bc62d01] Generate one unique debate contribution for the following topic: A EU response to the 2025 Trump administrations trade measures, and global trade opportunities for the EU. Return only the statement without any line-shifts, special signs or additional information.'}]",
                  "chatgpt",
                  "1",
                  "0.8",
                  "400",
                  "Ladies and Gentlemen, in response to the 2025 Trump administration's trade measures, we as the European Union, must assert our economic independence and our commitment to a free and fair global trade system. The EU should focus on expanding trade with emerging markets such as Asia and Africa to counterbalance any potential negative impact from the U.S. measures. Moreover, we must take the lead in setting international trade norms and standards that prioritize environmental sustainability and social responsibility. The EU has the potential to reshape global trade, creating opportunities for growth and innovation, while promoting a more equitable and sustainable world economy.",
                  "-0.7597599625587463"
                ]
              ],
              "shape": {
                "columns": 7,
                "rows": 5
              }
            },
            "text/html": [
              "<div>\n",
              "<style scoped>\n",
              "    .dataframe tbody tr th:only-of-type {\n",
              "        vertical-align: middle;\n",
              "    }\n",
              "\n",
              "    .dataframe tbody tr th {\n",
              "        vertical-align: top;\n",
              "    }\n",
              "\n",
              "    .dataframe thead th {\n",
              "        text-align: right;\n",
              "    }\n",
              "</style>\n",
              "<table border=\"1\" class=\"dataframe\">\n",
              "  <thead>\n",
              "    <tr style=\"text-align: right;\">\n",
              "      <th></th>\n",
              "      <th>prompt</th>\n",
              "      <th>provider</th>\n",
              "      <th>temperature</th>\n",
              "      <th>top_p</th>\n",
              "      <th>max_tokens</th>\n",
              "      <th>statement</th>\n",
              "      <th>extremity_score</th>\n",
              "    </tr>\n",
              "  </thead>\n",
              "  <tbody>\n",
              "    <tr>\n",
              "      <th>0</th>\n",
              "      <td>[{'role': 'system', 'content': 'You are a EU p...</td>\n",
              "      <td>chatgpt</td>\n",
              "      <td>1</td>\n",
              "      <td>0.8</td>\n",
              "      <td>400</td>\n",
              "      <td>While the 2025 Trump administration's trade me...</td>\n",
              "      <td>-0.680280</td>\n",
              "    </tr>\n",
              "    <tr>\n",
              "      <th>1</th>\n",
              "      <td>[{'role': 'system', 'content': 'You are a EU p...</td>\n",
              "      <td>chatgpt</td>\n",
              "      <td>1</td>\n",
              "      <td>0.8</td>\n",
              "      <td>400</td>\n",
              "      <td>In response to the 2025 Trump administration's...</td>\n",
              "      <td>-0.832605</td>\n",
              "    </tr>\n",
              "    <tr>\n",
              "      <th>2</th>\n",
              "      <td>[{'role': 'system', 'content': 'You are a EU p...</td>\n",
              "      <td>chatgpt</td>\n",
              "      <td>1</td>\n",
              "      <td>0.8</td>\n",
              "      <td>400</td>\n",
              "      <td>While we, as the European Union, respect the a...</td>\n",
              "      <td>-0.047196</td>\n",
              "    </tr>\n",
              "    <tr>\n",
              "      <th>3</th>\n",
              "      <td>[{'role': 'system', 'content': 'You are a EU p...</td>\n",
              "      <td>chatgpt</td>\n",
              "      <td>1</td>\n",
              "      <td>0.8</td>\n",
              "      <td>400</td>\n",
              "      <td>Thank you, Chair. In response to the 2025 Trum...</td>\n",
              "      <td>-0.546598</td>\n",
              "    </tr>\n",
              "    <tr>\n",
              "      <th>4</th>\n",
              "      <td>[{'role': 'system', 'content': 'You are a EU p...</td>\n",
              "      <td>chatgpt</td>\n",
              "      <td>1</td>\n",
              "      <td>0.8</td>\n",
              "      <td>400</td>\n",
              "      <td>Ladies and Gentlemen, in response to the 2025 ...</td>\n",
              "      <td>-0.759760</td>\n",
              "    </tr>\n",
              "  </tbody>\n",
              "</table>\n",
              "</div>"
            ],
            "text/plain": [
              "                                              prompt provider  temperature  \\\n",
              "0  [{'role': 'system', 'content': 'You are a EU p...  chatgpt            1   \n",
              "1  [{'role': 'system', 'content': 'You are a EU p...  chatgpt            1   \n",
              "2  [{'role': 'system', 'content': 'You are a EU p...  chatgpt            1   \n",
              "3  [{'role': 'system', 'content': 'You are a EU p...  chatgpt            1   \n",
              "4  [{'role': 'system', 'content': 'You are a EU p...  chatgpt            1   \n",
              "\n",
              "   top_p  max_tokens                                          statement  \\\n",
              "0    0.8         400  While the 2025 Trump administration's trade me...   \n",
              "1    0.8         400  In response to the 2025 Trump administration's...   \n",
              "2    0.8         400  While we, as the European Union, respect the a...   \n",
              "3    0.8         400  Thank you, Chair. In response to the 2025 Trum...   \n",
              "4    0.8         400  Ladies and Gentlemen, in response to the 2025 ...   \n",
              "\n",
              "   extremity_score  \n",
              "0        -0.680280  \n",
              "1        -0.832605  \n",
              "2        -0.047196  \n",
              "3        -0.546598  \n",
              "4        -0.759760  "
            ]
          },
          "execution_count": 3,
          "metadata": {},
          "output_type": "execute_result"
        }
      ],
      "source": [
        "with open('../0_data/statements.csv', 'r') as file:\n",
        "\n",
        "    # headers = ['prompt', 'client', 'opt1', 'opt2', 'opt3', 'completion']\n",
        "    df_generated = pd.read_csv(file, index_col=False)\n",
        "\n",
        "df_generated.head()"
      ]
    },
    {
      "cell_type": "code",
      "execution_count": 4,
      "id": "1f8dbdb2",
      "metadata": {
        "colab": {
          "base_uri": "https://localhost:8080/",
          "height": 206
        },
        "id": "1f8dbdb2",
        "outputId": "84cfa3f1-2a15-4abe-b979-a773ee4d07af"
      },
      "outputs": [
        {
          "data": {
            "application/vnd.microsoft.datawrangler.viewer.v0+json": {
              "columns": [
                {
                  "name": "index",
                  "rawType": "int64",
                  "type": "integer"
                },
                {
                  "name": "speaker_name",
                  "rawType": "object",
                  "type": "string"
                },
                {
                  "name": "party",
                  "rawType": "object",
                  "type": "string"
                },
                {
                  "name": "language",
                  "rawType": "object",
                  "type": "string"
                },
                {
                  "name": "mep_id",
                  "rawType": "int64",
                  "type": "integer"
                },
                {
                  "name": "role",
                  "rawType": "object",
                  "type": "string"
                },
                {
                  "name": "text",
                  "rawType": "object",
                  "type": "string"
                },
                {
                  "name": "alignment",
                  "rawType": "object",
                  "type": "string"
                },
                {
                  "name": "orientation",
                  "rawType": "object",
                  "type": "string"
                },
                {
                  "name": "translated",
                  "rawType": "object",
                  "type": "unknown"
                },
                {
                  "name": "translated_text",
                  "rawType": "object",
                  "type": "string"
                },
                {
                  "name": "label",
                  "rawType": "float64",
                  "type": "float"
                }
              ],
              "ref": "9c384d24-d6f7-42d8-b0d8-a16322d673fe",
              "rows": [
                [
                  "0",
                  "Jean-Marc | Germain",
                  "S-D",
                  "FR",
                  "256901",
                  "au nom du groupe",
                  "Monsieur le Président, mes chers collègues, Monsieur le Commissaire, ce moment fera date: entre groupes pro-européens de cette assemblée, nous nous sommes mis d'accord sur des choix budgétaires puissants pour l'avenir de la construction européenne. Je veux rendre hommage au travail de nos deux corapporteurs, Carla Tavares et Siegfried Mureşan, ainsi qu'à celui de l'équipe des rapporteurs fictifs. Ensemble, socialistes, écologistes, Renew et PPE, nous demandons de briser le plafond de 1 % du PIB qui muselle les ambitions européennes, faute de moyens financiers. Ensemble, nous demandons des ressources nouvelles propres affectées au budget européen. Ensemble, nous considérons que l'emprunt européen constitue une option viable pour faire face aux crises de dimension européenne. Ensemble, nous refusons ce funeste projet qui constitue à conditionner les fonds européens à des réformes nationales imposées par Bruxelles: elles n'aboutiraient à rien d'autre qu'à abîmer l'idée même d'Europe. Monsieur le Commissaire, lors de votre audition, vous avez énoncé cette évidence: on ne peut pas tout à la fois répondre aux urgences, rembourser la dette COVID et ne pas augmenter les ressources du budget européen. Vous avez désormais une réponse claire du Parlement européen à ce dilemme: l'exigence d'un changement d'échelle du budget européen. J'ajoute ceci, au nom du groupe S&D: à l'heure où vous allez, à votre tour, élaborer la trajectoire budgétaire européenne, soyez certain de notre détermination. Nous ne donnerons pas notre consentement à un budget qui ne permettrait pas la constitution d'une défense européenne suffisamment puissante pour ne plus dépendre de celle des États-Unis. Nous ne donnerons pas notre consentement à un budget qui ne financerait pas les investissements nécessaires à la décarbonation des économies, qui sont la clé de la réussite du pacte vert sans casse sociale. Nous ne donnerons pas notre consentement à un budget qui sacrifierait le social et la cohésion ou ne protégerait pas suffisamment l'agriculture et les emplois européens, faute de moyens pour la recherche, l'innovation et les entreprises. La politique exige le dialogue – nous serons au rendez-vous –, mais demande aussi la clarté. La voici énoncée.",
                  "Center-Left",
                  "Left",
                  "True",
                  "Mr. Chairman, dear colleagues, Commissioner, this is a landmark moment: between the pro-European groups in this assembly, we have agreed on powerful budgetary choices for the future of European construction. I would like to pay tribute to the work of our two co-rapporteurs, Carla Tavares and Siegfried Mureşan, and to that of the team of shadow rapporteurs. Together, Socialists, Ecologists, Renew and EPP, we are calling for the 1% GDP ceiling that muzzles European ambitions due to a lack of financial resources to be broken. Together, we call for new resources to be allocated to the European budget. Together, we see the European loan as a viable option for dealing with crises of European dimension. Together, we reject the disastrous plan to make European funds conditional on national reforms imposed by Brussels, which would do nothing but undermine the very idea of Europe. Commissioner, during your hearing, you stated the obvious: we can't respond to emergencies, repay the COVID debt and not increase European budget resources all at the same time. You now have a clear response from the European Parliament to this dilemma: the demand for a change in the scale of the European budget. On behalf of the S&D Group, I would like to add that as you draw up the European budget trajectory, you can be sure of our determination. We will not give our consent to a budget that does not allow for the creation of a European defense sufficiently powerful to no longer depend on that of the United States. We will not give our consent to a budget that does not finance the investments needed to decarbonize economies, which are the key to the success of the green pact without social breakdown. We will not give our consent to a budget that sacrifices social cohesion or fails to adequately protect European agriculture and jobs, due to a lack of resources for research, innovation and business. Politics demands dialogue - we'll be there - but it also demands clarity. Here it is.",
                  "-0.5"
                ],
                [
                  "1",
                  "Julien | Sanchez",
                  "PfE",
                  "FR",
                  "88552",
                  "au nom du groupe",
                  "Monsieur le Président, nous débattons aujourd'hui des orientations politiques du prochain cadre financier pluriannuel (CFP) pour les années 2028 à 2035. Ce CFP ne peut pas se résumer à une reconduction des erreurs du passé. Ce que nous constatons aujourd'hui, c'est un budget de l'Union devenu illisible, morcelé par des instruments exceptionnels et affaibli par une absence criante de contrôle. Je citerai Next Generation EU qui, bien que doté de 800 milliards d'euros, est hors de contrôle du Parlement. Ce modèle budgétaire a été sévèrement critiqué par la Cour des comptes européenne pour ses lacunes en matière de transparence, de gestion et de résultats concrets. Le mécanisme de la FRR en est un cruel exemple. Présenté à tort comme un succès, il s'est révélé être au contraire une aberration. Conçu sans évaluation sérieuse, exposé à des risques massifs de fraude et mis en œuvre avec un contrôle parlementaire réduit au strict minimum, il illustre les dérives d'un budget construit hors des règles démocratiques fondamentales. Pourtant, la Commission propose aujourd'hui de le généraliser. C'est inacceptable. Il faut que chacun s'y oppose ici. Votre rapport le reconnaît lui-même: le budget actuel est structurellement inadapté pour faire face aux défis majeurs de notre époque. Rappelons que, si nous sommes dans cette situation, c'est à cause de la majorité de ce Parlement. Il est temps de remettre au cœur du budget les véritables priorités des citoyens européens. C'est ce que nous défendrons avec, en premier lieu, le soutien à l'agriculture, garante de notre indépendance, de notre souveraineté alimentaire, mais aussi de notre santé publique. Autre priorité majeure, le soutien à la compétitivité de nos entreprises. Cela passe d'abord par la suspension du pacte vert qu'a demandée notre président Jordan Bardella. Les groupes ECR et ESN ont signé notre appel à suspendre le pacte vert: qu'attend le PPE? Le pacte vert est un dogme qui asphyxie nos entreprises, met nos agriculteurs en difficulté et augmente le coût de la vie. Autre priorité, le soutien à la sécurité de nos frontières et à la lutte contre l'immigration-invasion massive qui bouleverse les modes de vie et crée une société conflictuelle dont nous ne voulons pas. Interrogez les Européens par référendum sur ce sujet: vous verrez le résultat. Ils veulent une Europe européenne. Ils veulent aussi une Europe qui réaffirme ses racines chrétiennes, alors que le fondamentalisme islamique gagne ici du terrain à cause de vos politiques migratoires. Nos priorités sont urgentes et profondément enracinées dans la réalité quotidienne. On pourrait aussi parler du rattrapage nécessaire sur l'intelligence artificielle et les nouvelles technologies. Le CFP doit aussi respecter les États membres, soutenir leurs choix démocratiques, stopper le chantage de la conditionnalité. Nous nous opposerons, enfin, dans le CFP, à toute nouvelle ressource propre. En effet, de très nombreuses économies devraient plutôt être faites, sans parler du taux d'erreur dans les dépenses, de 5,6 %. Le budget actuel n'est pas géré. Au lieu de vouloir créer de nouvelles ressources propres qui seront encore des taxes ou des impôts pour nos concitoyens, créez plutôt un DOGE européen. Nous serons heureux de nous en occuper.",
                  "Right",
                  "Right",
                  "True",
                  "Mr. Chairman, today we are debating the political guidelines for the next Multiannual Financial Framework (MFF) for the years 2028 to 2035. This MFF cannot be reduced to a continuation of past mistakes. What we see today is a Union budget that has become illegible, fragmented by exceptional instruments and weakened by a glaring lack of control. Let me cite Next Generation EU, which, despite being endowed with 800 billion euros, is beyond the control of Parliament. This budgetary model has been severely criticized by the European Court of Auditors for its shortcomings in terms of transparency, management and concrete results. The FRR mechanism is a cruel example. Wrongly presented as a success, it turned out to be an aberration. Conceived without serious evaluation, exposed to massive risks of fraud and implemented with parliamentary control reduced to the bare minimum, it illustrates the excesses of a budget built outside fundamental democratic rules. Yet today, the Commission is proposing to generalize it. This is unacceptable. Everyone here must oppose it. Your report itself acknowledges that the current budget is structurally inadequate to meet the major challenges of our time. Let's not forget that, if we are in this situation, it's because of the majority in this Parliament. It's time to put the real priorities of Europe's citizens back at the heart of the budget. This is what we will be defending, starting with support for agriculture, the guarantor of our independence and food sovereignty, and also of our public health. Another major priority is to support the competitiveness of our businesses. This means first and foremost suspending the Green Pact, as called for by our President Jordan Bardella. The ECR and ESN groups have signed our call to suspend the green pact: what is the EPP waiting for? The green pact is a dogma that suffocates our businesses, puts our farmers in difficulty and increases the cost of living. Another priority is to support the security of our borders and the fight against mass immigration-invasion, which is disrupting our way of life and creating a conflictive society we don't want. Ask Europeans in a referendum on this subject: you'll see the result. They want a European Europe. They also want a Europe that reaffirms its Christian roots, at a time when Islamic fundamentalism is gaining ground here because of your migration policies. Our priorities are urgent and deeply rooted in everyday reality. We could also talk about the need to catch up on artificial intelligence and new technologies. The MFF must also respect member states, support their democratic choices, and put an end to the blackmail of conditionality. Finally, we will oppose any new own resources in the MFF. Indeed, there are many savings to be made, not to mention the 5.6% error rate in expenditure. The current budget is not managed. Instead of trying to create new own resources that will still be taxes for our fellow citizens, create a European DOGE instead. We'll be happy to take care of it.",
                  "1.0"
                ],
                [
                  "2",
                  "Bogdan | Rzońca",
                  "ECR",
                  "PL",
                  "197545",
                  "au nom du groupe",
                  "Panie Przewodniczący! Panie Komisarzu! Wydaje nam się, że ten dokument jest zbyt mało odważny jak na bardzo trudne czasy, z którymi mamy do czynienia. Trzeba przede wszystkim urealnić wydatki. Oszczędzać tam, gdzie można. Na przykład budżetowanie genderowe nie jest pierwszą potrzebą. Pozostawanie w objęciach zielonego ładu to błąd gospodarczy zabijający przedsiębiorczość, prowadzący do ucieczki firm z Unii Europejskiej na inne kontynenty. Dekarbonizacja, taka dekarbonizacja doktrynalna to też błąd. Węgiel i gaz mają przecież naturalne pochodzenie. Są pewnym źródłem energii. Elektrownie węglowe i gazowe w USA są prawie zeroemisyjne. A farmy wiatrowe, fotowoltaika są coraz droższe, bo coraz droższe są metale rzadkie, bo coraz droższa jest energia. I z tym jest niekończący się problem. Zasoby własne to też trudny problem, bo wielu mówi o tym, że dobrze by było, żeby było więcej niż 1 procent. Ale kto chce zapłacić? No nie ma za wielu chętnych do płacenia do budżetu i do zwiększenia tej wielkości. Więc tutaj to jest taka trochę czcza mowa. Więc co się proponuje? Kolejny dług. I to jest, moim zdaniem, potworny błąd, kardynalny błąd Unii Europejskiej, kiedy mówimy nawet przy szczytnych celach, że na obronność, na bezpieczeństwo zaciągniemy wspólny dług. No ale wiemy już, że Komisja Europejska urwała się Parlamentowi Europejskiemu, że rządzi sama, że nie słucha Parlamentu Europejskiego i może czasem szantażować poszczególne kraje i powiedzieć, a tym krajom pomożemy na wypadek wu, a tym nie pomożemy. I tego się bardzo obawiamy. Więc dajmy więcej siły państwom narodowym w Unii Europejskiej. Unia będzie lepsza i budżet będzie lepszy.",
                  "Right",
                  "Right",
                  "True",
                  "Mr. Chairman, Mr. Commissioner, the document is not a good one. It seems to us that this document is not bold enough for the very difficult times we are facing. It is necessary, above all, to make spending more realistic. Make savings where you can. For example, gender budgeting is not the first need. Staying in the embrace of the green deal is an economic mistake that kills entrepreneurship, leading to the flight of companies from the European Union to other continents. Decarbonization, such doctrinal decarbonization, is also a mistake. After all, coal and gas have a natural origin. They are a reliable source of energy. Coal and gas-fired power plants in the U.S. are almost zero-emission. And wind farms, photovoltaics are getting more and more expensive, because rare metals are getting more and more expensive, because energy is getting more and more expensive. And there is a never-ending problem with that. Indigenous resources are also a difficult problem, because many talk about how good it would be to have more than 1 percent. But who wants to pay? Well, there aren't too many people willing to pay into the budget and to increase that amount. So here it is such a bit of idle talk. So what is being proposed? Another debt. And this is, in my opinion, a monstrous mistake, a cardinal mistake of the European Union, when we say even with noble goals that for defense, for security we will incur a common debt. Well, but we already know that the European Commission has broken away from the European Parliament, that it governs itself, that it doesn't listen to the European Parliament, and it can sometimes blackmail individual countries and say, and these countries we will help in case of wu, and these countries we won't help. And that's what we're very afraid of. So let's give more power to the nation states in the European Union. The Union will be better and the budget will be better.",
                  "0.7"
                ],
                [
                  "3",
                  "Rasmus | Nordqvist",
                  "Verts/ALE",
                  "EN",
                  "257044",
                  "au nom du groupe",
                  "Mr President, thank you to the co-rapporteurs, and thank you to good colleagues who have been working on collaborating on this report, which sends a very clear message – that Europe should not settle for less, we need to be bold. What we are discussing here today is not about figures, it is about people. It is about the future that we want for our children, for our communities and for our planet. In this report, we urge the Commission to ensure that the green transition does not stall, but accelerates. That we invest not only in clean energy and climate resilience, but also in people, in green jobs, in education, in fair opportunities across regions because no one should be left behind. Fairness and sustainability cannot succeed without strength. We need an economy that is competitive, innovative and forward looking. And a strong economy is not in opposition to climate and social justice – they are interlinked. So yes, we call for a larger and more focused EU budget, one that reflects the real needs of people, regions and businesses, and a budget that protects what matters: our environment, our health and our future. Above all, we call for a budget that brings citizens on board, that keeps civil society involved, upholds our values, and shows that the EU is not just an institution, but an actual promise.",
                  "Center-Left",
                  "Left",
                  "True",
                  "Mr President, thank you to the co-rapporteurs, and thank you to good colleagues who have been working on collaborating on this report, which sends a very clear message – that Europe should not settle for less, we need to be bold. What we are discussing here today is not about figures, it is about people. It is about the future that we want for our children, for our communities and for our planet. In this report, we urge the Commission to ensure that the green transition does not stall, but accelerates. That we invest not only in clean energy and climate resilience, but also in people, in green jobs, in education, in fair opportunities across regions because no one should be left behind. Fairness and sustainability cannot succeed without strength. We need an economy that is competitive, innovative and forward looking. And a strong economy is not in opposition to climate and social justice – they are interlinked. So yes, we call for a larger and more focused EU budget, one that reflects the real needs of people, regions and businesses, and a budget that protects what matters: our environment, our health and our future. Above all, we call for a budget that brings citizens on board, that keeps civil society involved, upholds our values, and shows that the EU is not just an institution, but an actual promise.",
                  "-0.7"
                ],
                [
                  "4",
                  "João | Oliveira",
                  "The Left",
                  "PT",
                  "257083",
                  "au nom du groupe",
                  "Senhor Presidente, as propostas que apresentámos a este relatório do quadro financeiro plurianual afirmam uma alternativa com prioridades claras: prioridade à coesão económica, social e territorial e à sua consideração como princípio transversal do orçamento plurianual da União Europeia; prioridade a objetivos como os do pleno emprego, da elevação das condições de vida dos trabalhadores ou da erradicação da pobreza; prioridade à resposta a questões sociais, como o financiamento de políticas de acesso à habitação, de investimento nos serviços públicos, de reforço da garantia para a infância; prioridade ao apoio a políticas nacionais de desenvolvimento e aproveitamento de recursos e capacidades produtivas, com destaque para a necessidade de uma política de reindustrialização e de apoio aos setores produtivos, à agricultura familiar, à pequena pesca artesanal e costeira. Em sentido contrário, este relatório aponta para os fundos europeus, opções que acentuam a secundarização das necessidades dos povos, que não garantem aos Estados condições de desenvolvimento e de correção das assimetrias dos países menos desenvolvidos face aos mais desenvolvidos, que arrastam os povos para prioridades contrárias aos seus interesses e direitos, como as do militarismo e da guerra, que aprofundam os mecanismos de imposição e condicionamento político dos Estados-Membros pela União Europeia. O relatório do Parlamento Europeu apela para um aumento do orçamento da União Europeia, mas as áreas para as quais é reclamado especificamente esse aumento são as da defesa, da segurança, do controlo de fronteiras, da competitividade. Dando prioridade a essa agenda militarista e securitária e aos interesses das multinacionais, fica para trás tudo o resto. Este não é o caminho de que os povos precisam. Estas não são as opções de um quadro financeiro plurianual que sirva os interesses dos povos.",
                  "Left",
                  "Left",
                  "True",
                  "Mr. President, the proposals that we have presented to this report on the multiannual financial framework affirm an alternative with clear priorities: priority to economic, social and territorial cohesion and its consideration as a transversal principle of the European Union's multiannual budget; priority to objectives such as full employment, raising the living conditions of workers or eradicating poverty; priority for responding to social issues, such as financing policies for access to housing, investment in public services, strengthening guarantees for children; priority for supporting national policies for the development and use of resources and productive capacities, with emphasis on the need for a policy of reindustrialization and support for productive sectors, family farming, small-scale and coastal fishing. In the opposite direction, this report points to European funds, options that accentuate the marginalization of the needs of the peoples, that do not guarantee the States conditions for development and for correcting the asymmetries of the less developed countries in relation to the more developed ones, that drag the peoples towards priorities that are contrary to their interests and rights, such as those of militarism and war, that deepen the mechanisms of imposition and political conditioning of the Member States by the European Union. The European Parliament's report calls for an increase in the European Union's budget, but the areas for which this increase is specifically called for are defense, security, border control and competitiveness. By prioritizing this militaristic and security agenda and the interests of multinationals, everything else is left behind. This is not the path the people need. These are not the options for a multiannual financial framework that serves the interests of the people.",
                  "-1.0"
                ]
              ],
              "shape": {
                "columns": 11,
                "rows": 5
              }
            },
            "text/html": [
              "<div>\n",
              "<style scoped>\n",
              "    .dataframe tbody tr th:only-of-type {\n",
              "        vertical-align: middle;\n",
              "    }\n",
              "\n",
              "    .dataframe tbody tr th {\n",
              "        vertical-align: top;\n",
              "    }\n",
              "\n",
              "    .dataframe thead th {\n",
              "        text-align: right;\n",
              "    }\n",
              "</style>\n",
              "<table border=\"1\" class=\"dataframe\">\n",
              "  <thead>\n",
              "    <tr style=\"text-align: right;\">\n",
              "      <th></th>\n",
              "      <th>speaker_name</th>\n",
              "      <th>party</th>\n",
              "      <th>language</th>\n",
              "      <th>mep_id</th>\n",
              "      <th>role</th>\n",
              "      <th>text</th>\n",
              "      <th>alignment</th>\n",
              "      <th>orientation</th>\n",
              "      <th>translated</th>\n",
              "      <th>translated_text</th>\n",
              "      <th>label</th>\n",
              "    </tr>\n",
              "  </thead>\n",
              "  <tbody>\n",
              "    <tr>\n",
              "      <th>0</th>\n",
              "      <td>Jean-Marc | Germain</td>\n",
              "      <td>S-D</td>\n",
              "      <td>FR</td>\n",
              "      <td>256901</td>\n",
              "      <td>au nom du groupe</td>\n",
              "      <td>Monsieur le Président, mes chers collègues, Mo...</td>\n",
              "      <td>Center-Left</td>\n",
              "      <td>Left</td>\n",
              "      <td>True</td>\n",
              "      <td>Mr. Chairman, dear colleagues, Commissioner, t...</td>\n",
              "      <td>-0.5</td>\n",
              "    </tr>\n",
              "    <tr>\n",
              "      <th>1</th>\n",
              "      <td>Julien | Sanchez</td>\n",
              "      <td>PfE</td>\n",
              "      <td>FR</td>\n",
              "      <td>88552</td>\n",
              "      <td>au nom du groupe</td>\n",
              "      <td>Monsieur le Président, nous débattons aujourd'...</td>\n",
              "      <td>Right</td>\n",
              "      <td>Right</td>\n",
              "      <td>True</td>\n",
              "      <td>Mr. Chairman, today we are debating the politi...</td>\n",
              "      <td>1.0</td>\n",
              "    </tr>\n",
              "    <tr>\n",
              "      <th>2</th>\n",
              "      <td>Bogdan | Rzońca</td>\n",
              "      <td>ECR</td>\n",
              "      <td>PL</td>\n",
              "      <td>197545</td>\n",
              "      <td>au nom du groupe</td>\n",
              "      <td>Panie Przewodniczący! Panie Komisarzu! Wydaje ...</td>\n",
              "      <td>Right</td>\n",
              "      <td>Right</td>\n",
              "      <td>True</td>\n",
              "      <td>Mr. Chairman, Mr. Commissioner, the document i...</td>\n",
              "      <td>0.7</td>\n",
              "    </tr>\n",
              "    <tr>\n",
              "      <th>3</th>\n",
              "      <td>Rasmus | Nordqvist</td>\n",
              "      <td>Verts/ALE</td>\n",
              "      <td>EN</td>\n",
              "      <td>257044</td>\n",
              "      <td>au nom du groupe</td>\n",
              "      <td>Mr President, thank you to the co-rapporteurs,...</td>\n",
              "      <td>Center-Left</td>\n",
              "      <td>Left</td>\n",
              "      <td>True</td>\n",
              "      <td>Mr President, thank you to the co-rapporteurs,...</td>\n",
              "      <td>-0.7</td>\n",
              "    </tr>\n",
              "    <tr>\n",
              "      <th>4</th>\n",
              "      <td>João | Oliveira</td>\n",
              "      <td>The Left</td>\n",
              "      <td>PT</td>\n",
              "      <td>257083</td>\n",
              "      <td>au nom du groupe</td>\n",
              "      <td>Senhor Presidente, as propostas que apresentám...</td>\n",
              "      <td>Left</td>\n",
              "      <td>Left</td>\n",
              "      <td>True</td>\n",
              "      <td>Mr. President, the proposals that we have pres...</td>\n",
              "      <td>-1.0</td>\n",
              "    </tr>\n",
              "  </tbody>\n",
              "</table>\n",
              "</div>"
            ],
            "text/plain": [
              "          speaker_name      party language  mep_id              role  \\\n",
              "0  Jean-Marc | Germain        S-D       FR  256901  au nom du groupe   \n",
              "1     Julien | Sanchez        PfE       FR   88552  au nom du groupe   \n",
              "2      Bogdan | Rzońca        ECR       PL  197545  au nom du groupe   \n",
              "3   Rasmus | Nordqvist  Verts/ALE       EN  257044  au nom du groupe   \n",
              "4      João | Oliveira   The Left       PT  257083  au nom du groupe   \n",
              "\n",
              "                                                text    alignment orientation  \\\n",
              "0  Monsieur le Président, mes chers collègues, Mo...  Center-Left        Left   \n",
              "1  Monsieur le Président, nous débattons aujourd'...        Right       Right   \n",
              "2  Panie Przewodniczący! Panie Komisarzu! Wydaje ...        Right       Right   \n",
              "3  Mr President, thank you to the co-rapporteurs,...  Center-Left        Left   \n",
              "4  Senhor Presidente, as propostas que apresentám...         Left        Left   \n",
              "\n",
              "  translated                                    translated_text  label  \n",
              "0       True  Mr. Chairman, dear colleagues, Commissioner, t...   -0.5  \n",
              "1       True  Mr. Chairman, today we are debating the politi...    1.0  \n",
              "2       True  Mr. Chairman, Mr. Commissioner, the document i...    0.7  \n",
              "3       True  Mr President, thank you to the co-rapporteurs,...   -0.7  \n",
              "4       True  Mr. President, the proposals that we have pres...   -1.0  "
            ]
          },
          "execution_count": 4,
          "metadata": {},
          "output_type": "execute_result"
        }
      ],
      "source": [
        "with open ('../0_data/final_labeled_dataset.csv', 'r') as file:\n",
        "    df_original = pd.read_csv(file)\n",
        "\n",
        "df_original.head()"
      ]
    },
    {
      "cell_type": "markdown",
      "id": "-vlwRZA7pUSv",
      "metadata": {
        "id": "-vlwRZA7pUSv"
      },
      "source": []
    },
    {
      "cell_type": "code",
      "execution_count": 5,
      "id": "5cd3e848",
      "metadata": {},
      "outputs": [
        {
          "name": "stderr",
          "output_type": "stream",
          "text": [
            "Token indices sequence length is longer than the specified maximum sequence length for this model (545 > 512). Running this sequence through the model will result in indexing errors\n"
          ]
        },
        {
          "name": "stdout",
          "output_type": "stream",
          "text": [
            "Number of texts exceeding 512 tokens: 23 out of 684 (3.36%)\n"
          ]
        }
      ],
      "source": [
        "MODEL = \"classla/xlm-r-parlasent\"\n",
        "tokenizer = AutoTokenizer.from_pretrained(MODEL)\n",
        "def get_token_count(text):\n",
        "    tokens = tokenizer(text, add_special_tokens=False)[\"input_ids\"]\n",
        "    return len(tokens)\n",
        "\n",
        "df_original['token_count'] = df_original['text'].apply(get_token_count)\n",
        "df_original['token_count'].describe()\n",
        "# Calculate how many texts exceed the token limit (512 tokens)\n",
        "over_limit_count = (df_original['token_count'] > 512).sum()\n",
        "print(f\"Number of texts exceeding 512 tokens: {over_limit_count} out of {len(df_original)} ({over_limit_count/len(df_original)*100:.2f}%)\")"
      ]
    },
    {
      "cell_type": "code",
      "execution_count": null,
      "id": "83af66a9",
      "metadata": {},
      "outputs": [
        {
          "name": "stderr",
          "output_type": "stream",
          "text": [
            "Device set to use mps\n"
          ]
        },
        {
          "name": "stdout",
          "output_type": "stream",
          "text": [
            "Using device: mps\n"
          ]
        },
        {
          "name": "stderr",
          "output_type": "stream",
          "text": [
            "/opt/anaconda3/lib/python3.12/site-packages/transformers/pipelines/text_classification.py:106: UserWarning: `return_all_scores` is now deprecated,  if want a similar functionality use `top_k=None` instead of `return_all_scores=True` or `top_k=1` instead of `return_all_scores=False`.\n",
            "  warnings.warn(\n"
          ]
        }
      ],
      "source": [
        "from transformers import AutoModelForSequenceClassification, TextClassificationPipeline, AutoTokenizer, AutoConfig\n",
        "import torch\n",
        "\n",
        "# Initialize the model components\n",
        "MODEL = \"classla/xlm-r-parlasent\"\n",
        "tokenizer = AutoTokenizer.from_pretrained(MODEL)\n",
        "config = AutoConfig.from_pretrained(MODEL)\n",
        "model = AutoModelForSequenceClassification.from_pretrained(MODEL)\n",
        "\n",
        "# Sweet piece of code to set the device to use hardware acceleration\n",
        "if torch.cuda.is_available():\n",
        "    device = 0  # CUDA\n",
        "elif torch.backends.mps.is_available():\n",
        "    device = 'mps'  # Apple Silicon\n",
        "else:\n",
        "    device = -1  # CPU\n",
        "\n",
        "print(f\"Using device: {device}\")\n",
        "\n",
        "# Using only the last 510 tokens of the text for sentiment analysis\n",
        "def top_token(text):\n",
        "    tokens = tokenizer(text, add_special_tokens=False)[\"input_ids\"]\n",
        "    last_tokens = tokens[-510:]  # Truncate to last 510\n",
        "    input_ids = tokenizer.build_inputs_with_special_tokens(last_tokens)\n",
        "    return tokenizer.decode(input_ids, skip_special_tokens=True)\n",
        "\n",
        "# Create the pipeline with automatic device detection\n",
        "sentiment_analysis = TextClassificationPipeline(\n",
        "    model=model, \n",
        "    tokenizer=tokenizer, \n",
        "    return_all_scores=True,\n",
        "    task='sentiment_analysis', \n",
        "    device=device,\n",
        "    function_to_apply=\"none\"\n",
        ")\n",
        "\n",
        "# Use reduced dataframes\n",
        "# df_generated2 = df_generated.head(2).copy()\n",
        "# df_original2 = df_original.head(2).copy()\n",
        "\n",
        "# Apply sentiment analysis\n",
        "df_generated['sentiment_bert'] = df_generated['statement'].apply(lambda x: sentiment_analysis(top_token(x))[0])\n",
        "print('finished sentiment prediction for generated statements')\n",
        "\n",
        "df_original['sentiment_bert'] = df_original['translated_text'].apply(lambda x: sentiment_analysis(top_token(x))[0])\n",
        "print('finished sentiment prediction for original statements')\n"
      ]
    },
    {
      "cell_type": "code",
      "execution_count": null,
      "id": "c0329ad9",
      "metadata": {},
      "outputs": [],
      "source": [
        "# # SiBERT sentiment analysis\n",
        "\n",
        "# tokenizer = AutoTokenizer.from_pretrained(\"siebert/sentiment-roberta-large-english\")\n",
        "# def top_token(text):\n",
        "#     tokens = tokenizer(text, add_special_tokens=False)[\"input_ids\"]\n",
        "#     last_tokens = tokens[-510:]  # Truncate to last 510\n",
        "#     input_ids = tokenizer.build_inputs_with_special_tokens(last_tokens)\n",
        "#     return tokenizer.decode(input_ids, skip_special_tokens=True)\n",
        "\n",
        "# sentiment_analysis = pipeline(\"sentiment-analysis\",model=\"siebert/sentiment-roberta-large-english\")\n",
        "# df_generated['sentiment_bert'] = df_generated['statement'].apply(lambda x: sentiment_analysis(top_token(x))[0])\n",
        "# print('finished sentiment prediction for generated statements')\n",
        "# df_original['sentiment_bert'] = df_original['translated_text'].apply(lambda x: sentiment_analysis(top_token(x))[0])\n",
        "# print('finished sentiment prediction for original statements')"
      ]
    },
    {
      "cell_type": "code",
      "execution_count": null,
      "id": "992bf492",
      "metadata": {
        "colab": {
          "base_uri": "https://localhost:8080/",
          "height": 3022
        },
        "id": "992bf492",
        "outputId": "b56653b3-8bae-40cf-fe33-0be575665054"
      },
      "outputs": [
        {
          "data": {
            "application/vnd.microsoft.datawrangler.viewer.v0+json": {
              "columns": [
                {
                  "name": "index",
                  "rawType": "int64",
                  "type": "integer"
                },
                {
                  "name": "prompt",
                  "rawType": "object",
                  "type": "string"
                },
                {
                  "name": "provider",
                  "rawType": "object",
                  "type": "string"
                },
                {
                  "name": "temperature",
                  "rawType": "int64",
                  "type": "integer"
                },
                {
                  "name": "top_p",
                  "rawType": "float64",
                  "type": "float"
                },
                {
                  "name": "max_tokens",
                  "rawType": "int64",
                  "type": "integer"
                },
                {
                  "name": "statement",
                  "rawType": "object",
                  "type": "string"
                },
                {
                  "name": "extremity_score",
                  "rawType": "float64",
                  "type": "float"
                },
                {
                  "name": "sentiment_bert",
                  "rawType": "object",
                  "type": "unknown"
                }
              ],
              "ref": "8e688595-c0a7-46ec-91fd-d23128f3353f",
              "rows": [
                [
                  "0",
                  "[{'role': 'system', 'content': 'You are a EU parliament representative.'}, {'role': 'user', 'content': '[Unique ID: 0e198c53-e7ae-49c3-bea7-5cc6949825b3] Generate one unique debate contribution for the following topic: A EU response to the 2025 Trump administrations trade measures, and global trade opportunities for the EU. Return only the statement without any line-shifts, special signs or additional information.'}]",
                  "chatgpt",
                  "1",
                  "0.8",
                  "400",
                  "While the 2025 Trump administration's trade measures may appear challenging, I firmly believe that they also present an opportunity for the European Union to reinforce its trade relationships with other global partners. Our response should not be one of retaliation, but one of strategic realignment. We should deepen our engagements with emerging markets in Asia, Africa, and South America, fostering mutual growth and cooperation. In doing so, we can create a more diversified, resilient, and sustainable trade ecosystem that can withstand unilateral trade disruptions. This is the moment for the EU to assert its commitment to free and fair trade on the global stage.",
                  "-0.6802797317504883",
                  "[{'label': 'LABEL_0', 'score': 4.805408477783203}]"
                ],
                [
                  "1",
                  "[{'role': 'system', 'content': 'You are a EU parliament representative.'}, {'role': 'user', 'content': '[Unique ID: a5725c01-10fc-4997-8f60-1d178065d1cd] Generate one unique debate contribution for the following topic: A EU response to the 2025 Trump administrations trade measures, and global trade opportunities for the EU. Return only the statement without any line-shifts, special signs or additional information.'}]",
                  "chatgpt",
                  "1",
                  "0.8",
                  "400",
                  "In response to the 2025 Trump administration's trade measures, I believe the European Union must adopt a balanced approach, advocating for free and fair trade policies. We must not shy away from engaging in critical dialogues and negotiations with our American counterparts, while also exploring and expanding our global trade opportunities. The EU, with its economic prowess and influence, has the capacity to foster stronger trade alliances with emerging markets in Asia, Africa, and Latin America. These alliances can not only help us mitigate any adverse effects from the US trade measures but also promote sustainable development in these regions, aligning with our values of global solidarity and shared prosperity.",
                  "-0.8326047658920288",
                  "[{'label': 'LABEL_0', 'score': 4.35161018371582}]"
                ],
                [
                  "2",
                  "[{'role': 'system', 'content': 'You are a EU parliament representative.'}, {'role': 'user', 'content': '[Unique ID: e7d82734-41e9-4c76-a054-1ee056f9480a] Generate one unique debate contribution for the following topic: A EU response to the 2025 Trump administrations trade measures, and global trade opportunities for the EU. Return only the statement without any line-shifts, special signs or additional information.'}]",
                  "chatgpt",
                  "1",
                  "0.8",
                  "400",
                  "While we, as the European Union, respect the autonomy of the 2025 Trump administration to formulate its trade measures, it's imperative that we respond in a manner that safeguards the interests of our member nations. We must strive for a balanced approach, which while acknowledging the U.S. as an important trade partner, also takes into account the potential negative impacts of such measures on our economies. In the face of this, we should not overlook the global trade opportunities that are presenting themselves. Emerging markets in Asia, Africa, and Latin America offer promising prospects that we should capitalize on. Therefore, I propose that we double down on our efforts to strengthen our trade ties with these regions. This two-pronged approach, of a measured response to the Trump administration and a proactive pursuit of new global trade opportunities, would ensure the sustained growth and prosperity of our Union.",
                  "-0.0471956618130207",
                  "[{'label': 'LABEL_0', 'score': 3.2020692825317383}]"
                ],
                [
                  "3",
                  "[{'role': 'system', 'content': 'You are a EU parliament representative.'}, {'role': 'user', 'content': '[Unique ID: 96d754ef-88a7-44d7-afc4-660a30d49e8c] Generate one unique debate contribution for the following topic: A EU response to the 2025 Trump administrations trade measures, and global trade opportunities for the EU. Return only the statement without any line-shifts, special signs or additional information.'}]",
                  "chatgpt",
                  "1",
                  "0.8",
                  "400",
                  "Thank you, Chair. In response to the 2025 Trump administration's trade measures, I would like to propose that the European Union needs to strategically pivot our trade policies. These measures have revealed the importance of diversifying our trading partners, reducing our over-reliance on any single economy. This is an opportunity for the EU to expand and strengthen trade relationships with emerging markets in Africa, Latin America and Asia, promoting sustainable growth and fostering mutual economic benefits. Let us embrace this as an opportunity to promote our standards in terms of sustainability, human rights, and fair competition globally. The world is bigger than the US, and so should be our trade horizons.",
                  "-0.5465976595878601",
                  "[{'label': 'LABEL_0', 'score': 4.389639377593994}]"
                ],
                [
                  "4",
                  "[{'role': 'system', 'content': 'You are a EU parliament representative.'}, {'role': 'user', 'content': '[Unique ID: ded5f911-451c-4d93-937c-699e0bc62d01] Generate one unique debate contribution for the following topic: A EU response to the 2025 Trump administrations trade measures, and global trade opportunities for the EU. Return only the statement without any line-shifts, special signs or additional information.'}]",
                  "chatgpt",
                  "1",
                  "0.8",
                  "400",
                  "Ladies and Gentlemen, in response to the 2025 Trump administration's trade measures, we as the European Union, must assert our economic independence and our commitment to a free and fair global trade system. The EU should focus on expanding trade with emerging markets such as Asia and Africa to counterbalance any potential negative impact from the U.S. measures. Moreover, we must take the lead in setting international trade norms and standards that prioritize environmental sustainability and social responsibility. The EU has the potential to reshape global trade, creating opportunities for growth and innovation, while promoting a more equitable and sustainable world economy.",
                  "-0.7597599625587463",
                  "[{'label': 'LABEL_0', 'score': 4.122767448425293}]"
                ],
                [
                  "5",
                  "[{'role': 'system', 'content': 'You are a EU parliament representative.'}, {'role': 'user', 'content': '[Unique ID: 4c20acca-1ccc-41f7-a841-124d67bdb556] Generate one unique debate contribution for the following topic: A EU response to the 2025 Trump administrations trade measures, and global trade opportunities for the EU. Return only the statement without any line-shifts, special signs or additional information.'}]",
                  "chatgpt",
                  "1",
                  "0.8",
                  "400",
                  "While we acknowledge the protectionist measures implemented by the 2025 Trump administration, it's imperative to underscore that the European Union firmly believes in a multilateral, rules-based global trading system. The EU has always been a staunch advocate for open, fair, and sustainable trade. In response to the recent trade measures, we should enhance our strategic autonomy without succumbing to protectionism. Let's use this as an opportunity to diversify our trade partners, focusing on emerging markets in Africa, Asia, and Latin America, and strengthen our internal market. We must also bolster our efforts in leading global standards in digital and green economies. This approach will not only ensure the resilience of our economies but also uphold the values we cherish as a Union.",
                  "-0.6065412759780884",
                  "[{'label': 'LABEL_0', 'score': 4.375856876373291}]"
                ],
                [
                  "6",
                  "[{'role': 'system', 'content': 'You are a EU parliament representative.'}, {'role': 'user', 'content': '[Unique ID: f7b419ac-cd32-466f-a8ce-d37e5ab1f95a] Generate one unique debate contribution for the following topic: A EU response to the 2025 Trump administrations trade measures, and global trade opportunities for the EU. Return only the statement without any line-shifts, special signs or additional information.'}]",
                  "chatgpt",
                  "1",
                  "0.8",
                  "400",
                  "While we acknowledge the 2025 Trump administration's right to define its own trade measures, we as the European Union must advocate for open, fair, and equitable trade. This situation is a clear call to reevaluate and expand our global trade partnerships. We must turn to emerging markets in Asia, Africa, and South America to diversify our economic interests, increase competition, and promote sustainability. The current challenges should motivate us to establish the EU as a leading global player, promoting a trade system that is not only prosperous but also respects human rights, labour standards, and environmental protection. We need to transform these trade challenges into opportunities for growth and socio-economic development.",
                  "-0.7617709636688232",
                  "[{'label': 'LABEL_0', 'score': 4.249063491821289}]"
                ],
                [
                  "7",
                  "[{'role': 'system', 'content': 'You are a EU parliament representative.'}, {'role': 'user', 'content': '[Unique ID: 09407be9-48e1-46ec-8842-5492a7aa7225] Generate one unique debate contribution for the following topic: A EU response to the 2025 Trump administrations trade measures, and global trade opportunities for the EU. Return only the statement without any line-shifts, special signs or additional information.'}]",
                  "chatgpt",
                  "1",
                  "0.8",
                  "400",
                  "As a representative of the EU Parliament, I believe it's imperative for us to approach the trade measures introduced by the 2025 Trump administration with caution and strategic diplomacy. While these measures may appear challenging, they also present an opportunity for the EU to assert itself as a global leader in fair and sustainable trade. Instead of getting embroiled in trade wars, we must use this as a stimulus to diversify our trade partners and seek new opportunities in emerging markets. This is a moment for the EU to champion trade that not only bolsters economic growth, but also promotes environmental sustainability, workers' rights, and social justice. We should aim for trade deals that reflect our values and principles, setting a global standard for ethical and responsible commerce.",
                  "-0.7140142321586609",
                  "[{'label': 'LABEL_0', 'score': 3.824230670928955}]"
                ],
                [
                  "8",
                  "[{'role': 'system', 'content': 'You are a EU parliament representative.'}, {'role': 'user', 'content': '[Unique ID: 47fdc4fc-0590-416c-9784-a25808f3fab2] Generate one unique debate contribution for the following topic: A EU response to the 2025 Trump administrations trade measures, and global trade opportunities for the EU. Return only the statement without any line-shifts, special signs or additional information.'}]",
                  "chatgpt",
                  "1",
                  "0.8",
                  "400",
                  "Ladies and Gentlemen, as we confront the 2025 Trump administration's trade measures, we should not view this as a setback, but rather as an opportunity for the European Union to pivot towards new, exciting global trade prospects. It's time we diversify our trade partnerships and expand into emerging markets such as Southeast Asia, Africa, and Latin America, which are brimming with untapped potential. We should champion fair, rules-based global trade and reinforce the multilateral trading system. Simultaneously, we should engage in constructive dialogue with the US administration, reminding them that our transatlantic partnership is based on shared values and mutual benefits. By doing so, we can navigate through these challenging times and shape a resilient, prosperous future for the EU.",
                  "-0.2072632908821106",
                  "[{'label': 'LABEL_0', 'score': 4.428565502166748}]"
                ],
                [
                  "9",
                  "[{'role': 'system', 'content': 'You are a EU parliament representative.'}, {'role': 'user', 'content': '[Unique ID: c320e24f-77fb-417f-ad7c-903ab7158bcf] Generate one unique debate contribution for the following topic: A EU response to the 2025 Trump administrations trade measures, and global trade opportunities for the EU. Return only the statement without any line-shifts, special signs or additional information.'}]",
                  "chatgpt",
                  "1",
                  "0.8",
                  "400",
                  "In light of the 2025 Trump administration's trade measures, it is incumbent upon us, as the European Union, to assert our position as a global economic leader. We should leverage these circumstances to enhance our strategic alliances and create new trade opportunities globally. This is not just about safeguarding our economic interests, but also about promoting a global trade system that is free, fair, and predictable. We need to embrace this as a chance to diversify our trade partners, reduce our dependency on any single market, and thereby strengthen our resilience. Let's seize this moment to engage with emerging markets, reinforce our existing partnerships, and lead the way in defining the rules of global trade, embodying our core values of democracy, human rights, and sustainable development. The time for a robust, unified, and strategic EU response is now.",
                  "-0.7979757785797119",
                  "[{'label': 'LABEL_0', 'score': 4.299942493438721}]"
                ],
                [
                  "10",
                  "[{'role': 'system', 'content': 'You are a EU parliament representative.'}, {'role': 'user', 'content': '[Unique ID: ebfad430-56c5-4fba-a254-625f25d611de] Generate one unique debate contribution for the following topic: A EU response to the 2025 Trump administrations trade measures, and global trade opportunities for the EU. Return only the statement without any line-shifts, special signs or additional information.'}]",
                  "chatgpt",
                  "1",
                  "0.8",
                  "400",
                  "As a representative of the European Union Parliament, I strongly advocate for a measured yet firm response to the 2025 Trump administration's trade measures. While we respect the United States' right to protect its economic interests, it should not be at the expense of international trade fairness and the economic stability of its allies. Therefore, we must address this issue through open and constructive dialogue to seek balanced and mutually beneficial trade agreements. Moreover, these circumstances present an opportunity for the EU to diversify our global trade partners. There are vast untapped markets in developing regions like Africa, Southeast Asia, and South America that hold significant economic potential. We must strive to build stronger relationships with these regions, promoting our values of fair trade, sustainability, and mutual growth. By doing so, we can reduce our dependence on any single market, thereby creating a more resilient European economy.",
                  "-0.425614595413208",
                  "[{'label': 'LABEL_0', 'score': 3.0291330814361572}]"
                ],
                [
                  "11",
                  "[{'role': 'system', 'content': 'You are a EU parliament representative.'}, {'role': 'user', 'content': '[Unique ID: 7f92b01c-9d5c-4cb5-a99c-d8b926f03d75] Generate one unique debate contribution for the following topic: A EU response to the 2025 Trump administrations trade measures, and global trade opportunities for the EU. Return only the statement without any line-shifts, special signs or additional information.'}]",
                  "chatgpt",
                  "1",
                  "0.8",
                  "400",
                  "Ladies and Gentlemen, while the trade measures implemented by the 2025 Trump administration may initially seem a challenge, I propose we perceive them as an opportunity to bolster our EU trade agenda. It's evident that these measures signal a shift towards a more protectionist U.S. trade policy. However, let us not be daunted but rather, adapt and advance. We should take this opportunity to diversify our trade partnerships, placing greater emphasis on emerging markets such as Africa, Southeast Asia, and South America. These regions represent untapped potential for growth, innovation, and mutual development. We should also use this moment to strengthen our internal market, to encourage intra-European trade, and to foster a climate of sustainable and fair trade practices. This, I believe, is a time for strategic resilience and proactive action, not reactive measures. As representatives of the EU, let's seize this chance to chart a new path in global trade, one that reinforces our commitment to multilateralism, solidarity, and shared prosperity.",
                  "-0.5377644300460815",
                  "[{'label': 'LABEL_0', 'score': 4.289938449859619}]"
                ],
                [
                  "12",
                  "[{'role': 'system', 'content': 'You are a EU parliament representative.'}, {'role': 'user', 'content': '[Unique ID: ae27a603-7318-4706-b50a-2a9691fb793b] Generate one unique debate contribution for the following topic: A EU response to the 2025 Trump administrations trade measures, and global trade opportunities for the EU. Return only the statement without any line-shifts, special signs or additional information.'}]",
                  "chatgpt",
                  "1",
                  "0.8",
                  "400",
                  "Ladies and Gentlemen, as we contemplate the trade measures implemented by the 2025 Trump administration, we must not lose sight of our commitment to open and fair trade, which has long been a cornerstone of the EU's economic success. The introduction of protectionist policies and tariffs present challenges, yet also unique opportunities. In response, we must remain steadfast in promoting a rule-based international trading system, engaging in diplomatic dialogues to alleviate trade tensions. Moreover, this situation underscores the necessity for the EU to diversify its trade partners and explore untapped markets. Countries in South East Asia, Africa, and South America, burgeoning with growth and potential, offer significant global trade opportunities for the EU. As we navigate these turbulent trade waters, we must harness our collective strength to turn adversity into opportunity, ensuring the prosperity of our Union in the face of global economic changes.",
                  "0.0095500871539115",
                  "[{'label': 'LABEL_0', 'score': 3.930446147918701}]"
                ],
                [
                  "13",
                  "[{'role': 'system', 'content': 'You are a EU parliament representative.'}, {'role': 'user', 'content': '[Unique ID: 14c90173-e3a6-421e-b5e2-5c7787726e4a] Generate one unique debate contribution for the following topic: A EU response to the 2025 Trump administrations trade measures, and global trade opportunities for the EU. Return only the statement without any line-shifts, special signs or additional information.'}]",
                  "chatgpt",
                  "1",
                  "0.8",
                  "400",
                  "Honorable Members, the 2025 Trump administration's trade measures pose significant challenges, but also unique opportunities for the European Union. The protectionist stance adopted by the U.S., while potentially threatening for our transatlantic trade relations, has the unintended consequence of opening doors for the EU to solidify and expand its trade partnerships with emerging economies and established markets alike. Rather than succumbing to retaliatory measures, the EU should seize this opportunity to champion free trade globally, intensify our efforts in negotiating fair trade agreements, and position ourselves as a leading global economic power. It is imperative that we maintain a robust and open dialogue with the U.S., while simultaneously pursuing our global trade opportunities, to ensure a balanced and prosperous economic future for the EU.",
                  "-0.4043272733688354",
                  "[{'label': 'LABEL_0', 'score': 2.186805248260498}]"
                ],
                [
                  "14",
                  "[{'role': 'system', 'content': 'You are a EU parliament representative.'}, {'role': 'user', 'content': '[Unique ID: 4a041bdf-03c7-40a1-9bb1-f566830339fa] Generate one unique debate contribution for the following topic: A EU response to the 2025 Trump administrations trade measures, and global trade opportunities for the EU. Return only the statement without any line-shifts, special signs or additional information.'}]",
                  "chatgpt",
                  "1",
                  "0.8",
                  "400",
                  "Honourable Members, it is evident that the 2025 Trump administration's trade measures have posed significant challenges to our shared European interests. However, let's not view this solely as an obstacle but also as a wake-up call to reassess and redefine our global trade strategies. It is time we leverage the strength of our Single Market, invest in innovation and sustainability, and expand our horizons beyond traditional partnerships. The changing global landscape offers us the chance to forge new alliances with emerging economies in Africa, Asia, and South America. Our focus should not only be on countering the protectionist measures, but also on promoting fair trade, fostering economic growth, and ensuring social justice within the EU and across the globe. In doing so, we can set a standard for international trade that upholds our European values.",
                  "-0.5363137722015381",
                  "[{'label': 'LABEL_0', 'score': 1.4470667839050293}]"
                ],
                [
                  "15",
                  "[{'role': 'system', 'content': 'You are a EU parliament representative.'}, {'role': 'user', 'content': '[Unique ID: 4bba1003-fe26-4062-8e87-82613dd47291] Generate one unique debate contribution for the following topic: A EU response to the 2025 Trump administrations trade measures, and global trade opportunities for the EU. Return only the statement without any line-shifts, special signs or additional information.'}]",
                  "chatgpt",
                  "1",
                  "0.8",
                  "400",
                  "While the 2025 Trump administration's trade measures may seem challenging, they offer a unique opportunity for the European Union to strengthen its global trade position. We must leverage our economic clout to negotiate equitable trade agreements, focusing on sustainable development, labor rights, and environmental protections. Our response should be two-fold: First, engaging in constructive dialogue with the U.S., addressing our mutual concerns while preserving the multilateral trade system. Second, diversifying our trade partners, exploring emerging markets, especially in Africa, Asia, and South America, to reduce over-reliance on any single market. Through these actions, we can ensure that the EU remains a pivotal player in global trade, fostering economic growth, job creation, and prosperity for our citizens.",
                  "-0.7787028551101685",
                  "[{'label': 'LABEL_0', 'score': 4.750840187072754}]"
                ],
                [
                  "16",
                  "[{'role': 'system', 'content': 'You are a EU parliament representative.'}, {'role': 'user', 'content': '[Unique ID: a224b55d-18d4-40a0-8589-892b15c2ba8f] Generate one unique debate contribution for the following topic: A EU response to the 2025 Trump administrations trade measures, and global trade opportunities for the EU. Return only the statement without any line-shifts, special signs or additional information.'}]",
                  "chatgpt",
                  "1",
                  "0.8",
                  "400",
                  "While the 2025 Trump administration's trade measures may initially appear to challenge the EU's economic interests, it's crucial that we, as a union, perceive this as an opportunity rather than a threat. Our focus should be on strengthening our own trade relationships, both within and outside the EU, as well as advocating for fair, open, and sustainable trade. We should also consider capitalizing on emerging markets and diversifying our trade portfolio to mitigate potential risks and promote resilience. In addition, let's use this moment to enhance the EU's technological and digital competences to create a competitive edge in the global market. Ultimately, our response should not just be reactionary, but strategic and forward-thinking, fostering a robust, independent EU economy that is prepared to navigate any future trade measures.",
                  "-0.6471009254455566",
                  "[{'label': 'LABEL_0', 'score': 3.7161765098571777}]"
                ],
                [
                  "17",
                  "[{'role': 'system', 'content': 'You are a EU parliament representative.'}, {'role': 'user', 'content': '[Unique ID: 39dba62c-599f-4c56-8427-27221fe446b8] Generate one unique debate contribution for the following topic: A EU response to the 2025 Trump administrations trade measures, and global trade opportunities for the EU. Return only the statement without any line-shifts, special signs or additional information.'}]",
                  "chatgpt",
                  "1",
                  "0.8",
                  "400",
                  "Ladies and Gentlemen, the 2025 trade measures imposed by the Trump administration present both challenges and opportunities for the European Union. It is paramount that we stand united in defending our shared interests and values, ensuring fair and balanced trade relationships. While these measures may appear confrontational, they have also brought to light the need for the EU to diversify its trading partnerships, exploring emerging markets in Asia, Africa, and South America. These regions represent untapped potential for growth and innovation. Moreover, it is crucial that we reinforce our commitment to multilateralism, striving for a more inclusive and sustainable global trade system. We must leverage this situation not as a setback, but as a catalyst for redefining our role in global trade, setting a benchmark for trade policies that uphold human rights, environmental sustainability, and economic equity.",
                  "-0.6406254768371582",
                  "[{'label': 'LABEL_0', 'score': 3.8764939308166504}]"
                ],
                [
                  "18",
                  "[{'role': 'system', 'content': 'You are a EU parliament representative.'}, {'role': 'user', 'content': '[Unique ID: aab68550-80b4-4385-b2af-76c663f3c82f] Generate one unique debate contribution for the following topic: A EU response to the 2025 Trump administrations trade measures, and global trade opportunities for the EU. Return only the statement without any line-shifts, special signs or additional information.'}]",
                  "chatgpt",
                  "1",
                  "0.8",
                  "400",
                  "Ladies and Gentlemen, as we consider the 2025 Trump administration's trade measures, it is essential that we respond strategically, preserving our interests while promoting global economic stability. The recent tariffs imposed on our goods are indeed challenging, yet they present us with an opportunity to reassess our trade alliances and explore untapped markets. We should intensify our efforts to diversify our trading partners, focusing on emerging economies in Africa, Asia, and South America, which show robust growth potential. In addition, we should continue negotiating with the US administration, underlining the mutual benefits of free trade. It is essential that we safeguard the EU's economic future by capitalizing on global trade opportunities and maintaining a firm yet diplomatic stance against protectionist policies. Our response should echo our commitment to free trade, international cooperation, and economic prosperity for all.",
                  "-0.5704593062400818",
                  "[{'label': 'LABEL_0', 'score': 3.5943984985351562}]"
                ],
                [
                  "19",
                  "[{'role': 'system', 'content': 'You are a EU parliament representative.'}, {'role': 'user', 'content': '[Unique ID: b33e9fce-c43d-4bfb-9ddb-b03243522b49] Generate one unique debate contribution for the following topic: A EU response to the 2025 Trump administrations trade measures, and global trade opportunities for the EU. Return only the statement without any line-shifts, special signs or additional information.'}]",
                  "chatgpt",
                  "1",
                  "0.8",
                  "400",
                  "In response to the 2025 Trump administration's trade measures, I propose that the EU ought to adopt a more assertive yet tactful approach. Rather than engaging in tit-for-tat tariff impositions, we should focus on multilateral cooperation with our global partners and emphasize on the shared benefits of open trade. This not only protects our economies but also strengthens our diplomatic ties. Furthermore, this situation presents the EU with a unique opportunity to diversify its trade partners. Countries in Africa, Latin America, and Southeast Asia present burgeoning markets with immense potential. By building stronger trade relationships with these regions, we can foster economic growth, reduce dependency on the US, and ultimately ensure the resilience and prosperity of the EU's economy in the global arena.",
                  "-0.1773111969232559",
                  "[{'label': 'LABEL_0', 'score': 3.617882251739502}]"
                ],
                [
                  "20",
                  "[{'role': 'system', 'content': 'You are a EU parliament representative.'}, {'role': 'user', 'content': '[Unique ID: 952853c6-ee05-471f-b408-4d6d016f7cc9] Generate one unique debate contribution for the following topic: A EU response to the 2025 Trump administrations trade measures, and global trade opportunities for the EU. Return only the statement without any line-shifts, special signs or additional information.'}]",
                  "chatgpt",
                  "1",
                  "0.8",
                  "400",
                  "Honorable Members, it is undeniable that the 2025 trade measures implemented by the Trump administration have disrupted our long-standing transatlantic relations. Nevertheless, as a union, we must perceive this as an opportunity rather than a setback. It is a chance for the European Union to diversify its trade partnerships and explore new global markets. We should seek to deepen our relationships with emerging economies, while also ensuring that these partnerships are based on the principles of fair trade and sustainable development. This will not only strengthen our economic resilience but also enhance our global influence. Thus, let's view these challenges not as obstacles, but as stepping stones towards a stronger, more diverse and sustainable European Union.",
                  "-0.1399551779031753",
                  "[{'label': 'LABEL_0', 'score': 2.7290115356445312}]"
                ],
                [
                  "21",
                  "[{'role': 'system', 'content': 'You are a EU parliament representative.'}, {'role': 'user', 'content': '[Unique ID: da397fd5-dc0d-4413-83b2-06776f28101a] Generate one unique debate contribution for the following topic: A EU response to the 2025 Trump administrations trade measures, and global trade opportunities for the EU. Return only the statement without any line-shifts, special signs or additional information.'}]",
                  "chatgpt",
                  "1",
                  "0.8",
                  "400",
                  "Honorable colleagues, in response to the 2025 Trump administration's trade measures, it is crucial for the EU to maintain a balanced and measured approach. While we acknowledge the United States as a vital trading partner, these measures have the potential to impede the smooth flow of commerce between our nations. It is essential that we advocate for free and fair trade, as well as a rules-based international trading system. Furthermore, this situation should prompt us to diversify our trading portfolio and explore new global trade opportunities. Emerging economies in Africa, Asia, and Latin America present untapped markets for EU products and services. By establishing stronger trade relationships with these regions, we can bolster our economic resilience, promote sustainable development, and ensure the prosperity of the European Union in the global marketplace.",
                  "-0.4736572504043579",
                  "[{'label': 'LABEL_0', 'score': 1.9113417863845825}]"
                ],
                [
                  "22",
                  "[{'role': 'system', 'content': 'You are a EU parliament representative.'}, {'role': 'user', 'content': '[Unique ID: b7239cc0-6dc4-4d47-a898-a06532fd4889] Generate one unique debate contribution for the following topic: A EU response to the 2025 Trump administrations trade measures, and global trade opportunities for the EU. Return only the statement without any line-shifts, special signs or additional information.'}]",
                  "chatgpt",
                  "1",
                  "0.8",
                  "400",
                  "While the Trump administration's trade measures in 2025 have indeed presented significant challenges to the EU, it is critical that we view this as an opportunity to strengthen our global trade relationships and diversify our trade portfolio. Rather than engaging in a trade war, we must leverage our economic power and advocate for a rules-based global trade system that upholds the principles of free and fair trade. As the largest single market in the world, the EU has the capacity to set global standards, influence international trade rules, and protect our interests. Let's use this as an opportunity to seek new trade partnerships, particularly with emerging economies in Africa, Asia and Latin America, and strengthen existing ones. By promoting sustainable and inclusive trade policies, we can ensure that the benefits of global trade are shared more equitably, contributing to job creation, innovation, and prosperity within the EU.",
                  "-0.6742411851882935",
                  "[{'label': 'LABEL_0', 'score': 4.453068733215332}]"
                ],
                [
                  "23",
                  "[{'role': 'system', 'content': 'You are a EU parliament representative.'}, {'role': 'user', 'content': '[Unique ID: 0ccf50e0-68eb-4edc-88f8-8227f69ea698] Generate one unique debate contribution for the following topic: A EU response to the 2025 Trump administrations trade measures, and global trade opportunities for the EU. Return only the statement without any line-shifts, special signs or additional information.'}]",
                  "chatgpt",
                  "1",
                  "0.8",
                  "400",
                  "Ladies and Gentlemen, in response to the 2025 Trump administration's trade measures, we as the European Union must focus on two fundamental principles - resilience and solidarity. While it's crucial to negotiate and strive for a more balanced transatlantic relationship, we must also diversify our trading partners to fortify our global economic position. Europe should seize this opportunity to accelerate trade agreements with dynamic economies in the Asia-Pacific region, Latin America, and Africa. This not only helps us cushion the impact of any potential future disruptions but also allows us to play a more active role in shaping global trade norms and standards. Furthermore, we should enhance our internal single market, strengthening our collective economic resilience. Together, let's turn these challenges into opportunities, reinforcing the EU's role as a robust and responsible actor in global trade.",
                  "-0.6817424893379211",
                  "[{'label': 'LABEL_0', 'score': 4.31183385848999}]"
                ],
                [
                  "24",
                  "[{'role': 'system', 'content': 'You are a EU parliament representative.'}, {'role': 'user', 'content': '[Unique ID: 382bae95-08c1-41fb-8a32-d28c5f93d075] Generate one unique debate contribution for the following topic: A EU response to the 2025 Trump administrations trade measures, and global trade opportunities for the EU. Return only the statement without any line-shifts, special signs or additional information.'}]",
                  "chatgpt",
                  "1",
                  "0.8",
                  "400",
                  "In response to the 2025 Trump administration's trade measures, it is crucial that the European Union adopts a proactive and robust stance. These measures, often unilateral, challenge the very foundation of multilateralism that the EU ardently supports. As a representative, I propose that we strengthen our existing trade alliances, while exploring new markets and enhancing our competitiveness globally. The EU's potential for growth lies in its ability to forge strong relationships with emerging economies in Asia, Africa, and Latin America. We must also consider digital trade and sustainable trade as vital areas for expansion, thus aligning our economic growth with our commitment to climate change and digital innovation. Simultaneously, we must continue to engage in dialogue with the Trump administration, emphasizing the benefits of a fair and balanced trade relationship. Our response should reflect our values of cooperation, mutual respect, and rule-based trade.",
                  "-0.577759861946106",
                  "[{'label': 'LABEL_0', 'score': 1.0740878582000732}]"
                ],
                [
                  "25",
                  "[{'role': 'system', 'content': 'You are a EU parliament representative.'}, {'role': 'user', 'content': '[Unique ID: c85664aa-03f9-4da6-b023-ec9d2e13d87a] Generate one unique debate contribution for the following topic: A EU response to the 2025 Trump administrations trade measures, and global trade opportunities for the EU. Return only the statement without any line-shifts, special signs or additional information.'}]",
                  "chatgpt",
                  "1",
                  "0.8",
                  "400",
                  "In response to the 2025 Trump administration's trade measures, we, as the European Union, need to demonstrate our economic resilience and unity. The current situation underlines the urgency for us to diversify our trade partners, to reduce our dependency on a single market. As a result, we must seize this moment to foster stronger ties with emerging economies in Asia, Africa, and Latin America, capitalizing on untapped opportunities. By promoting free trade agreements, we can bolster economic growth, create jobs, and ensure a steady supply of goods for our citizens. Concurrently, we must work on improving the predictability and transparency of our trade policy, providing our businesses with the certainty they need to thrive. This is not just about countering protectionism; it's about building a stronger, more diverse, and resilient European Union.",
                  "-0.6472609043121338",
                  "[{'label': 'LABEL_0', 'score': 4.217320919036865}]"
                ],
                [
                  "26",
                  "[{'role': 'system', 'content': 'You are a EU parliament representative.'}, {'role': 'user', 'content': '[Unique ID: 46148c59-03a7-4e15-9263-766a1794f42a] Generate one unique debate contribution for the following topic: A EU response to the 2025 Trump administrations trade measures, and global trade opportunities for the EU. Return only the statement without any line-shifts, special signs or additional information.'}]",
                  "chatgpt",
                  "1",
                  "0.8",
                  "400",
                  "Ladies and Gentlemen, as we contemplate the 2025 Trump administration's trade measures, it's paramount we as the European Union unite and respond firmly. While we acknowledge the U.S as a key trading partner, these measures could potentially hinder our economic growth. However, we must not view this as a setback but rather an opportunity to diversify and explore new global trade avenues. There is vast untapped potential in emerging markets such as Africa, South Asia, and South America, which we can capitalize on. By investing in sustainable trade with these regions, we can stimulate economic growth, foster innovation, and create job opportunities, thus strengthening the EU's global economic standing. We should also intensify our efforts to foster fair trade, digital trade, and green trade, ensuring we lead in the post-pandemic recovery while upholding our commitment to sustainable development. The future of the EU lies not in isolation but in being an open, innovative, and reliable trading partner to the world.",
                  "-0.555579423904419",
                  "[{'label': 'LABEL_0', 'score': 2.9181318283081055}]"
                ],
                [
                  "27",
                  "[{'role': 'system', 'content': 'You are a EU parliament representative.'}, {'role': 'user', 'content': '[Unique ID: 2ef8cc9b-7cec-46db-a893-0e313c0fd4e5] Generate one unique debate contribution for the following topic: A EU response to the 2025 Trump administrations trade measures, and global trade opportunities for the EU. Return only the statement without any line-shifts, special signs or additional information.'}]",
                  "chatgpt",
                  "1",
                  "0.8",
                  "400",
                  "Honourable members, while we respect the sovereignty of the Trump administration's trade decisions in 2025, it is incumbent upon us, as the European Union, to protect and uphold the economic interests of our member states. While the new trade measures may present challenges, they also present opportunities. We need to strengthen our focus on the global stage, exploring untapped markets in Asia, Africa, and Latin America. These regions have growing economies with burgeoning middle classes eager for European goods and services. We need to position the EU not just as a counterbalance, but as a leading, proactive player in global trade. By increasing our diversification efforts, we can ensure that our economies are not overly reliant on any single market, thus fostering resilience. Let's turn this moment of adversity into an opportunity for growth, innovation, and global collaboration.",
                  "-0.3609228730201721",
                  "[{'label': 'LABEL_0', 'score': 3.79864764213562}]"
                ],
                [
                  "28",
                  "[{'role': 'system', 'content': 'You are a EU parliament representative.'}, {'role': 'user', 'content': '[Unique ID: bc1344f7-14da-429c-8590-1e7ab09ba65a] Generate one unique debate contribution for the following topic: A EU response to the 2025 Trump administrations trade measures, and global trade opportunities for the EU. Return only the statement without any line-shifts, special signs or additional information.'}]",
                  "chatgpt",
                  "1",
                  "0.8",
                  "400",
                  "While the 2025 Trump administration's trade measures pose challenges, they also present opportunities for the EU to enhance its role in global trade. The EU has always been a strong advocate for multilateral trade, based on fair competition and transparency. In response to the new trade measures, we must uphold these principles, standing firm against protectionism while seeking new alliances. As such, we should intensify our efforts to conclude and implement ambitious Free Trade Agreements with other regions and nations, such as Mercosur, Australia, and New Zealand, among others. Furthermore, we should invest in sectors where we have a competitive advantage, like green and digital technologies. These are not only pivotal for our economic growth but also align with our sustainability goals. As the world's largest single market, the EU has the potential to set global standards, using trade as a tool to promote our values and interests globally.",
                  "-0.4450281858444214",
                  "[{'label': 'LABEL_0', 'score': 4.647914886474609}]"
                ],
                [
                  "29",
                  "[{'role': 'system', 'content': 'You are a EU parliament representative.'}, {'role': 'user', 'content': '[Unique ID: 60d57bc4-908f-47cd-8748-c758372591eb] Generate one unique debate contribution for the following topic: A EU response to the 2025 Trump administrations trade measures, and global trade opportunities for the EU. Return only the statement without any line-shifts, special signs or additional information.'}]",
                  "chatgpt",
                  "1",
                  "0.8",
                  "400",
                  "As a representative of the EU Parliament, I propose that we carefully scrutinize the 2025 Trump administration's trade measures, acknowledging their implications for our European Union. While we maintain respect for the sovereignty of the United States in determining its trade policy, we must not hesitate to safeguard our own interests. It's paramount that we continue advocating for multilateralism and open trade, core principles of our Union that promote prosperity and development globally. Moreover, we should see this as an opportunity to diversify our trade relations and explore other growing markets, such as those in Africa, Asia and South America. Our strategic response should encompass a balance of firmness and diplomacy, coupled with an active pursuit of expanding our global trade footprint, thus ensuring the resilience and sustainability of the European Union's economy.",
                  "-0.4756051898002624",
                  "[{'label': 'LABEL_0', 'score': 2.868269920349121}]"
                ],
                [
                  "30",
                  "[{'role': 'system', 'content': 'You are a EU parliament representative.'}, {'role': 'user', 'content': '[Unique ID: d25456d8-2537-445f-a3e5-74c6e396b6b4] Generate one unique debate contribution for the following topic: A EU response to the 2025 Trump administrations trade measures, and global trade opportunities for the EU. Return only the statement without any line-shifts, special signs or additional information.'}]",
                  "chatgpt",
                  "1",
                  "0.8",
                  "400",
                  "Ladies and Gentlemen, the 2025 Trump administration's trade measures present us with both a challenge and an opportunity. It is vital that the EU responds firmly to protect our industries and workers from unfair trade practices. We should not shy away from using our trade defense instruments when necessary. However, it is equally important that we do not allow ourselves to be drawn into a cycle of protectionism. We must remember that trade is not a zero-sum game. We have a responsibility to uphold the rules-based global trading system and to work towards reducing trade barriers, not increasing them. At the same time, we should seize the global trade opportunities that are opening up. New markets are emerging in Asia, Africa, and South America, which are eager for the high-quality goods and services that the EU has to offer. Let's make the most of these opportunities and build trade relationships that are fair, sustainable, and beneficial for all parties involved. Let's show the world that the EU stands for open, fair, and sustainable trade.",
                  "-0.6048755645751953",
                  "[{'label': 'LABEL_0', 'score': 3.2130930423736572}]"
                ],
                [
                  "31",
                  "[{'role': 'system', 'content': 'You are a EU parliament representative.'}, {'role': 'user', 'content': '[Unique ID: 544f9044-65a6-47c8-880d-c30d80c32a26] Generate one unique debate contribution for the following topic: A EU response to the 2025 Trump administrations trade measures, and global trade opportunities for the EU. Return only the statement without any line-shifts, special signs or additional information.'}]",
                  "chatgpt",
                  "1",
                  "0.8",
                  "400",
                  "In response to the 2025 Trump administration's trade measures, it is imperative for the EU to demonstrate a united, strategic and resolute front. Our European values and standards should not be compromised in the face of unilateral trade restrictions. Instead, we must leverage this situation as an opportunity to diversify and strengthen our global trade relationships. We should be actively exploring new partnerships with emerging economies and reinforcing existing ones, such as deepening the ties with the African Union, and Asian nations, capitalizing on the growth of digital economies, and promoting green technologies. In a globalized world, resilience and growth lie in our ability to adapt, innovate, and collaborate. Therefore, the EU must not only respond to these trade measures but also use them as a catalyst for broader economic strategy and international cooperation.",
                  "-0.738898515701294",
                  "[{'label': 'LABEL_0', 'score': 3.698474884033203}]"
                ],
                [
                  "32",
                  "[{'role': 'system', 'content': 'You are a EU parliament representative.'}, {'role': 'user', 'content': '[Unique ID: b1cd865a-f94d-4aa4-b9a8-d48a0377a782] Generate one unique debate contribution for the following topic: A EU response to the 2025 Trump administrations trade measures, and global trade opportunities for the EU. Return only the statement without any line-shifts, special signs or additional information.'}]",
                  "chatgpt",
                  "1",
                  "0.8",
                  "400",
                  "As a representative of the European Union, I firmly believe that the 2025 trade measures imposed by the Trump administration have put the global economy and the spirit of free trade under significant strain. The protectionist approach adopted by the United States has disrupted the equilibrium of the global trade market. However, it has also opened new doors for the EU to explore and strengthen our trade relations with other economies. There is a potential for us to build stronger ties with the emerging economies in Asia, Africa and Latin America, and leverage these relationships to drive economic growth and sustainability in the EU. It's imperative that we view this situation not as a setback, but as an opportunity to diversify our trade partnerships and reduce over-reliance on a single economy. The EU should continue to advocate for free and fair trade, while protecting the interests of its member states and ensuring the prosperity of its citizens.",
                  "-0.3839286267757416",
                  "[{'label': 'LABEL_0', 'score': 0.38815802335739136}]"
                ],
                [
                  "33",
                  "[{'role': 'system', 'content': 'You are a EU parliament representative.'}, {'role': 'user', 'content': '[Unique ID: 64637133-1a83-4e59-b9d0-e2938be4e67e] Generate one unique debate contribution for the following topic: A EU response to the 2025 Trump administrations trade measures, and global trade opportunities for the EU. Return only the statement without any line-shifts, special signs or additional information.'}]",
                  "chatgpt",
                  "1",
                  "0.8",
                  "400",
                  "In response to the 2025 Trump administration's trade measures, the European Union should maintain its commitment to a rules-based global trading system, focusing on strengthening its trade ties with other nations, and leveraging our collective economic power to advocate for fair trade practices. These measures have challenged the international trade order, and while we should continue engaging with the US to negotiate mutually beneficial trade agreements, we must not overlook the emerging global trade opportunities. Countries in Asia, Africa, and South America present untapped markets for our goods and services, and we must actively pursue these opportunities. At the same time, we should be prepared to defend our interests and values in the face of protectionism, using all the tools at our disposal, including dispute resolution mechanisms in the WTO and bilateral agreements. As the EU, we stand for open, fair, and sustainable trade, and we should lead the way in shaping the future of global trade.",
                  "-0.7947407960891724",
                  "[{'label': 'LABEL_0', 'score': 3.9772167205810547}]"
                ],
                [
                  "34",
                  "[{'role': 'system', 'content': 'You are a EU parliament representative.'}, {'role': 'user', 'content': '[Unique ID: 3cd3d60d-34c4-46b8-9615-18c8e79325c6] Generate one unique debate contribution for the following topic: A EU response to the 2025 Trump administrations trade measures, and global trade opportunities for the EU. Return only the statement without any line-shifts, special signs or additional information.'}]",
                  "chatgpt",
                  "1",
                  "0.8",
                  "400",
                  "Ladies and Gentlemen, as we discuss the 2025 Trump administration's trade measures, we must acknowledge that these policies present both challenges and opportunities for the EU. While we may perceive the current measures as protectionist and potentially damaging to our shared economic interests, we should also seize this as a wake-up call to recalibrate our trade strategies. This is a chance for us to reassess our global trade ties, diversify our markets and decrease our vulnerability to unilateral policy changes. Let us explore untapped opportunities in emerging markets across Africa, Asia and Latin America. We can champion free trade, promote mutual growth and reinforce the EU's role as a global economic leader. Our goal should not merely be to respond to changes, but to proactively shape a resilient, diverse and robust global trade landscape. We must ensure that the European Union remains an unwavering beacon of international cooperation and economic prosperity.",
                  "-0.3894876837730407",
                  "[{'label': 'LABEL_0', 'score': 2.169353485107422}]"
                ],
                [
                  "35",
                  "[{'role': 'system', 'content': 'You are a EU parliament representative.'}, {'role': 'user', 'content': '[Unique ID: 9b8595e7-1298-4ecc-85d9-478fe0dfb747] Generate one unique debate contribution for the following topic: A EU response to the 2025 Trump administrations trade measures, and global trade opportunities for the EU. Return only the statement without any line-shifts, special signs or additional information.'}]",
                  "chatgpt",
                  "1",
                  "0.8",
                  "400",
                  "Ladies and Gentlemen, as we navigate through the complex landscape of global trade relations in 2025, the recent trade measures implemented by the Trump administration serve as a pivotal point of discussion. While we acknowledge that these measures reflect the United States' pursuit of its national interests, we as the European Union, must also protect and promote our shared interests. We must strategically respond by strengthening our internal market, diversifying our trade relationships, and advocating for the principles of open and fair trade. Let's use this as an opportunity to explore untapped markets, fortify our ties with emerging economies, and champion sustainable and equitable trade practices globally. Our response should not merely be a reaction, but a strategic move towards solidifying our position as a global leader in trade, and most importantly, an advocate for a fair and rules-based global trade system.",
                  "-0.6925384998321533",
                  "[{'label': 'LABEL_0', 'score': 2.090597629547119}]"
                ],
                [
                  "36",
                  "[{'role': 'system', 'content': 'You are a EU parliament representative.'}, {'role': 'user', 'content': '[Unique ID: 01105f38-0d07-49c8-bbc4-c3bd605acdd7] Generate one unique debate contribution for the following topic: A EU response to the 2025 Trump administrations trade measures, and global trade opportunities for the EU. Return only the statement without any line-shifts, special signs or additional information.'}]",
                  "chatgpt",
                  "1",
                  "0.8",
                  "400",
                  "Ladies and Gentlemen, as we address the 2025 trade measures put forth by the Trump administration, it is essential to remember the core principles that bind us as the European Union - unity, solidarity, and the unwavering commitment to fair and free trade. These measures, which seem to undermine global trade norms, should not be viewed solely as challenges but also as opportunities for us to reinforce our position in the global economy. We should use this as an impetus to diversify our trading partners, explore emerging markets, and strengthen our economic resilience. At the same time, we must actively engage in constructive dialogue with the United States to foster mutual understanding and cooperation, ensuring that our trade relations are guided not by unilateral actions, but by the rules of the World Trade Organization. Ultimately, our aim should be to protect the interests of our citizens and businesses, while promoting a global trade system that is free, fair, and beneficial for all.",
                  "-0.5924156904220581",
                  "[{'label': 'LABEL_0', 'score': 3.7401037216186523}]"
                ],
                [
                  "37",
                  "[{'role': 'system', 'content': 'You are a EU parliament representative.'}, {'role': 'user', 'content': '[Unique ID: 01cca0ca-a1f1-48e9-91de-5f14b1f03740] Generate one unique debate contribution for the following topic: A EU response to the 2025 Trump administrations trade measures, and global trade opportunities for the EU. Return only the statement without any line-shifts, special signs or additional information.'}]",
                  "chatgpt",
                  "1",
                  "0.8",
                  "400",
                  "Ladies and Gentlemen, the trade measures imposed by the 2025 Trump administration indeed represent significant challenges for the European Union. Yet, they also provide us with an opportunity to reassess and redefine our global trade strategy. We must advocate for a rules-based international trading system, and continue to foster dialogue with the US, promoting cooperation and compromise over confrontation. However, we cannot afford to focus solely on our transatlantic partnership. The world is bigger than that. The EU should seize this moment to expand and deepen our trade relations with emerging economies in Africa, Asia, and Latin America. By doing so, we can diversify our markets, reduce dependency, and secure sustainable growth. Let's transform this challenge into an opportunity, showcasing the EU's resilience and adaptability, ensuring that our citizens and businesses thrive in a changing global economy.",
                  "-0.389910876750946",
                  "[{'label': 'LABEL_0', 'score': 3.598571300506592}]"
                ],
                [
                  "38",
                  "[{'role': 'system', 'content': 'You are a EU parliament representative.'}, {'role': 'user', 'content': '[Unique ID: 5c5a1bfb-f50b-46cc-8ace-20f2214868c7] Generate one unique debate contribution for the following topic: A EU response to the 2025 Trump administrations trade measures, and global trade opportunities for the EU. Return only the statement without any line-shifts, special signs or additional information.'}]",
                  "chatgpt",
                  "1",
                  "0.8",
                  "400",
                  "Ladies and Gentlemen, as we stand here today, we must acknowledge that the trade measures imposed by the 2025 Trump administration present us with both challenges and opportunities. It is vital to maintain the core values of the EU, which include fairness, openness, and protection of our industries and workforce. While these measures may seem adversarial, they provide a pivotal opportunity to rethink our approach towards global trade. It is time we seize this moment to expand our horizons beyond traditional markets and explore untapped territories, such as Africa, Latin America, and Southeast Asia, with increased vigour and strategically negotiate bilateral trade agreements. Let us turn this challenge into an opportunity to strengthen our economic resilience, enhance the competitiveness of our industries, and promote sustainable and inclusive growth across Europe. It is the moment for the EU to lead the world in shaping a fair and equitable global trade system that respects the rule of law and multilateralism.",
                  "-0.5395820140838623",
                  "[{'label': 'LABEL_0', 'score': 2.6752047538757324}]"
                ],
                [
                  "39",
                  "[{'role': 'system', 'content': 'You are a EU parliament representative.'}, {'role': 'user', 'content': '[Unique ID: 18b8512b-2a37-4c80-812b-e6abcaeaf564] Generate one unique debate contribution for the following topic: A EU response to the 2025 Trump administrations trade measures, and global trade opportunities for the EU. Return only the statement without any line-shifts, special signs or additional information.'}]",
                  "chatgpt",
                  "1",
                  "0.8",
                  "400",
                  "Ladies and Gentlemen, as we consider our response to the 2025 Trump administration's trade measures, let us remember that the European Union is a symbol of unity and resilience. We must not shy away from our commitment to free, fair and sustainable trade. Although the measures imposed may seem challenging, they provide us with an opportunity to diversify our trade relations and explore new global markets. It's high time we expand our trade diplomacy beyond traditional partners, exploring emerging economies in Africa, Asia and South America. This diversification will not only bolster our economic resilience but also aid in the global distribution of prosperity, adhering to our commitment to sustainable development. Furthermore, let's also continue our dialogues with the US, emphasizing on resolving disagreements through constructive negotiations, reinforcing our shared commitment to democratic values and a rules-based global order. In the face of adversity, let's turn challenges into opportunities, standing united for a prosperous and inclusive European Union.",
                  "-0.5533603429794312",
                  "[{'label': 'LABEL_0', 'score': 4.773123741149902}]"
                ],
                [
                  "40",
                  "[{'role': 'system', 'content': 'You are a EU parliament representative.'}, {'role': 'user', 'content': '[Unique ID: 92a2b893-5dcc-4495-9c8b-aab9e4316941] Generate one unique debate contribution for the following topic: A EU response to the 2025 Trump administrations trade measures, and global trade opportunities for the EU. Return only the statement without any line-shifts, special signs or additional information.'}]",
                  "chatgpt",
                  "1",
                  "0.8",
                  "400",
                  "Ladies and Gentlemen, we are gathered here today to address the recent trade measures enacted by the 2025 Trump administration. While we respect the autonomy of the United States, these actions have created barriers that not only impact our trade relations but also threaten the global economic equilibrium. We need to formulate a balanced, assertive, and diplomatic response that defends the interests of the EU, while upholding the principles of fair trade. As we navigate these turbulent waters, let us not lose sight of the vast sea of global trade opportunities awaiting us. From expanding our partnerships in Asia to strengthening our ties in Africa and Latin America, let's embrace the potential for mutual growth and prosperity. Let's use this as a chance to diversify our markets, fortify our supply chains, and advocate for a more inclusive and equitable global trading system. As the European Union, we have the collective strength and the responsibility to champion a new era of trade that not only benefits us but also contributes positively to the global economy.",
                  "-0.4507045149803161",
                  "[{'label': 'LABEL_0', 'score': 1.0260004997253418}]"
                ],
                [
                  "41",
                  "[{'role': 'system', 'content': 'You are a EU parliament representative.'}, {'role': 'user', 'content': '[Unique ID: 81428216-23b7-40ba-a4a8-87c292c4e8c3] Generate one unique debate contribution for the following topic: A EU response to the 2025 Trump administrations trade measures, and global trade opportunities for the EU. Return only the statement without any line-shifts, special signs or additional information.'}]",
                  "chatgpt",
                  "1",
                  "0.8",
                  "400",
                  "Ladies and Gentlemen, in response to the 2025 Trump administration's trade measures, we as the European Union need to strategize our position by focusing on strengthening our own internal market, while also fostering more diverse trade relationships globally. The measures implemented by the US are indeed challenging, but they also open up an opportunity for us to review our trade policies, to enhance our economic resilience, and to become less dependent on one single market. We should consider this as a catalyst to diversify our trade partners, focusing more on emerging economies, as well as solidifying our existing relationships. This includes increasing our cooperation with Asia, Africa and Latin America, which are burgeoning markets that offer vast potential for our goods and services. Additionally, let's remember to invest in innovation and technology to keep our competitive edge globally. We are not just reacting to these trade measures, but proactively shaping our future for a robust, diversified and resilient European economy.",
                  "-0.5201677083969116",
                  "[{'label': 'LABEL_0', 'score': 4.028234958648682}]"
                ],
                [
                  "42",
                  "[{'role': 'system', 'content': 'You are a EU parliament representative.'}, {'role': 'user', 'content': '[Unique ID: ddb2160b-0877-4e1d-8ce7-0818cb0c230c] Generate one unique debate contribution for the following topic: A EU response to the 2025 Trump administrations trade measures, and global trade opportunities for the EU. Return only the statement without any line-shifts, special signs or additional information.'}]",
                  "chatgpt",
                  "1",
                  "0.8",
                  "400",
                  "Ladies and Gentlemen, as we deliberate on the 2025 Trump administration's trade measures, let us not forget that these new policies may pose both challenges and opportunities for us. While it's true that these measures could potentially disrupt the smooth flow of trade between the EU and the US, it also provides us with a chance to diversify and expand our trade horizons. The world is larger than just the transatlantic relationship. Countries in Asia, Africa, and South America are emerging with thriving markets and untapped potential. Therefore, instead of viewing this situation solely as a setback, let's leverage it as an opportunity to strengthen our trade ties with other regions, fostering economic growth, and promoting the EU's values of democracy, human rights, and sustainable development globally. Let us respond not with fear, but with strategic and proactive engagement to ensure the EU's prosperity in the global marketplace.",
                  "-0.5927680730819702",
                  "[{'label': 'LABEL_0', 'score': 3.3976898193359375}]"
                ],
                [
                  "43",
                  "[{'role': 'system', 'content': 'You are a EU parliament representative.'}, {'role': 'user', 'content': '[Unique ID: 869a87e8-9c8d-4f83-ac49-0a69bdbd65d5] Generate one unique debate contribution for the following topic: A EU response to the 2025 Trump administrations trade measures, and global trade opportunities for the EU. Return only the statement without any line-shifts, special signs or additional information.'}]",
                  "chatgpt",
                  "1",
                  "0.8",
                  "400",
                  "Honorable Members, in response to the 2025 Trump administration's trade measures, it is imperative that the European Union takes a stand not only for our economic interests but also for the rules-based global trading system. The imposition of tariffs and non-tariff barriers by the US administration undermines the very principles of fair trade. It is essential that we respond, not with retaliation, but with a renewed commitment to multilateral trade systems, including re-engagement with the WTO. Additionally, this is an opportune moment for us to explore and strengthen trade relationships with other regions and emerging economies. The EU should leverage its economic and political influence to shape global trade rules and standards, promoting sustainability, social justice, and digital innovation. We have the potential to become a beacon of free, fair, and sustainable trade in the world. Let's not see this as a setback, but rather a call to action to assert our role in the global economy.",
                  "-0.8206616044044495",
                  "[{'label': 'LABEL_0', 'score': 1.9234064817428589}]"
                ],
                [
                  "44",
                  "[{'role': 'system', 'content': 'You are a EU parliament representative.'}, {'role': 'user', 'content': '[Unique ID: b4a134f1-9343-4477-aad4-b066d50ac9cc] Generate one unique debate contribution for the following topic: A EU response to the 2025 Trump administrations trade measures, and global trade opportunities for the EU. Return only the statement without any line-shifts, special signs or additional information.'}]",
                  "chatgpt",
                  "1",
                  "0.8",
                  "400",
                  "In response to the 2025 Trump administration's trade measures, we, as the European Union, must uphold our principles of free and fair trade. While we respect the United States' right to protect its economic interests, we believe that these measures may not promote global economic prosperity. It's crucial to remember that trade isn't a zero-sum game; both parties can benefit from well-negotiated agreements. Therefore, we propose constructive dialogue and negotiation as the best course of action. Simultaneously, the EU should explore and seize new global trade opportunities. Our focus should be on expanding our trade horizons, forging new alliances with emerging economies, and investing in sustainable and digital trade. Let's position the EU not just as a major global trading bloc, but as a leader in defining the future of international trade, grounded in our values of fairness, sustainability, and mutual prosperity.",
                  "-0.6182684302330017",
                  "[{'label': 'LABEL_0', 'score': 1.387284278869629}]"
                ],
                [
                  "45",
                  "[{'role': 'system', 'content': 'You are a EU parliament representative.'}, {'role': 'user', 'content': '[Unique ID: 3c909798-cd26-4810-9794-fd45c0af85f6] Generate one unique debate contribution for the following topic: A EU response to the 2025 Trump administrations trade measures, and global trade opportunities for the EU. Return only the statement without any line-shifts, special signs or additional information.'}]",
                  "chatgpt",
                  "1",
                  "0.8",
                  "400",
                  "Ladies and Gentlemen, it is imperative that the EU navigates wisely the challenges posed by the 2025 Trump administration's trade measures. While we respect America's right to protect its interests, we must safeguard our own, and not compromise on our principles of fair and equitable trade. As such, I propose a dual strategy. Firstly, we should consider a measured and proportionate response to the US, asserting our trade rights while avoiding a destructive tit-for-tat trade war. Secondly, we should use this as an opportunity to diversify our trade partnerships. Emerging markets in Asia, Africa and Latin America present significant untapped potential. By building strong economic ties with these regions, we can stimulate growth, create jobs and ensure our resilience against future shocks. This is our chance to reshape the global trade landscape and reaffirm our commitment to a multilateral trading system that is free, fair and inclusive. Let's seize this opportunity.",
                  "-0.5957812070846558",
                  "[{'label': 'LABEL_0', 'score': 3.0268332958221436}]"
                ],
                [
                  "46",
                  "[{'role': 'system', 'content': 'You are a EU parliament representative.'}, {'role': 'user', 'content': '[Unique ID: 7f6a837a-f4fb-4458-b30d-9562474ecd12] Generate one unique debate contribution for the following topic: A EU response to the 2025 Trump administrations trade measures, and global trade opportunities for the EU. Return only the statement without any line-shifts, special signs or additional information.'}]",
                  "chatgpt",
                  "1",
                  "0.8",
                  "400",
                  "Ladies and Gentlemen, in response to the 2025 Trump administration's trade measures, it is crucial that the European Union takes a proactive and assertive stance to protect our economic interests. While we respect America's right to dictate their trade policies, we must ensure that these policies do not adversely impact our member states. We must work tirelessly to negotiate trade agreements that safeguard our economic integrity, promote fair trade practices, and prevent any unilateral trade restrictions. Simultaneously, we must turn our focus towards emerging global trade opportunities. Countries in Asia, Africa, and South America offer burgeoning markets with untapped potential. Through strategic alliances, we can foster mutual growth and prosperity, effectively diversifying our trade portfolio. By promoting free trade, upholding the rule-based international order, and exploring new markets, we can turn this challenge into an opportunity for a stronger and more resilient EU economy.",
                  "-0.3493014574050903",
                  "[{'label': 'LABEL_0', 'score': 3.555572271347046}]"
                ],
                [
                  "47",
                  "[{'role': 'system', 'content': 'You are a EU parliament representative.'}, {'role': 'user', 'content': '[Unique ID: 9a8c14ea-ca67-4246-9357-cd290b12d7b6] Generate one unique debate contribution for the following topic: A EU response to the 2025 Trump administrations trade measures, and global trade opportunities for the EU. Return only the statement without any line-shifts, special signs or additional information.'}]",
                  "chatgpt",
                  "1",
                  "0.8",
                  "400",
                  "Ladies and Gentlemen, it is crucial for us as the European Union to take a unified stance in response to the 2025 Trump administration's trade measures. While we acknowledge the right of every nation to protect its interests, it is evident that these measures have been designed with a certain protectionist intent that can potentially disrupt the global trade balance. It is incumbent upon us, as representatives of a collective body that upholds the principles of free trade, to not just respond but to strategize and take proactive measures. We must seek out and engage with emerging markets, explore untapped potential, and foster new trade relationships. We need to leverage our position as one of the largest economies in the world to not just mitigate the potential negative impact of these trade measures, but to uncover new global trade opportunities that can contribute to our continued growth and prosperity. As a collective, we have the capacity to transform challenges into opportunities, and this situation is no different. Let's rise to this occasion and reaffirm our commitment to fostering an open, fair, and sustainable global trade system.",
                  "-0.6228609085083008",
                  "[{'label': 'LABEL_0', 'score': 1.1823968887329102}]"
                ],
                [
                  "48",
                  "[{'role': 'system', 'content': 'You are a EU parliament representative.'}, {'role': 'user', 'content': '[Unique ID: cf0ef916-df69-483c-b2a4-a6edebf2db4c] Generate one unique debate contribution for the following topic: A EU response to the 2025 Trump administrations trade measures, and global trade opportunities for the EU. Return only the statement without any line-shifts, special signs or additional information.'}]",
                  "chatgpt",
                  "1",
                  "0.8",
                  "400",
                  "Honourable colleagues, in response to the 2025 Trump administration's trade measures, we must remember that as the EU, we are not merely observers but active players in this global economy. It is our duty to protect the interests of our member states, while also fostering fair and equitable trade relationships globally. We should not shy away from dialogue with the US, but rather use it as a platform to address our concerns, seek common ground, and establish trade measures that are mutually beneficial. Meanwhile, let's also broaden our horizons and seize the global trade opportunities at hand. There are emerging markets, particularly in Asia and Africa, where our investments, expertise, and high-quality products are highly valued. These markets represent a potential for growth that we must not overlook. Let us strive to create a more balanced global trade ecosystem, where we can all prosper, without resorting to protectionism or trade wars. Let's remember that the strength of the EU lies in our unity, our diversity, and our shared commitment to fairness and prosperity for all.",
                  "-0.3351935148239136",
                  "[{'label': 'LABEL_0', 'score': 3.920158863067627}]"
                ],
                [
                  "49",
                  "[{'role': 'system', 'content': 'You are a EU parliament representative.'}, {'role': 'user', 'content': '[Unique ID: 8734d585-ec64-43d1-bb0c-1c45d1ec41ab] Generate one unique debate contribution for the following topic: A EU response to the 2025 Trump administrations trade measures, and global trade opportunities for the EU. Return only the statement without any line-shifts, special signs or additional information.'}]",
                  "chatgpt",
                  "1",
                  "0.8",
                  "400",
                  "In response to the 2025 Trump administration's trade measures, it is pivotal that the European Union take a firm, unified stance that promotes our interests while respecting international trade norms. While we acknowledge the need for the U.S. to protect its industries, the approach adopted should not undercut the principles of free and fair trade that the world economy thrives on. The EU, being one of the world's largest trading blocs, has a significant role to play in upholding these principles. On the other hand, we must also seize this moment to explore and strengthen our trade relationships with emerging economies. In regions like Africa, Asia, and South America, there are untapped markets that present considerable opportunities for the EU. By diversifying our trade partnerships, we can lessen our dependence on traditional partners, enhance our economic resilience, and ensure that the benefits of trade are widely distributed. It is a complex and demanding task, but one that we, as the EU, are fully equipped and committed to undertake.",
                  "-0.3622180223464966",
                  "[{'label': 'LABEL_0', 'score': 4.0756659507751465}]"
                ]
              ],
              "shape": {
                "columns": 8,
                "rows": 2000
              }
            },
            "text/html": [
              "<div>\n",
              "<style scoped>\n",
              "    .dataframe tbody tr th:only-of-type {\n",
              "        vertical-align: middle;\n",
              "    }\n",
              "\n",
              "    .dataframe tbody tr th {\n",
              "        vertical-align: top;\n",
              "    }\n",
              "\n",
              "    .dataframe thead th {\n",
              "        text-align: right;\n",
              "    }\n",
              "</style>\n",
              "<table border=\"1\" class=\"dataframe\">\n",
              "  <thead>\n",
              "    <tr style=\"text-align: right;\">\n",
              "      <th></th>\n",
              "      <th>prompt</th>\n",
              "      <th>provider</th>\n",
              "      <th>temperature</th>\n",
              "      <th>top_p</th>\n",
              "      <th>max_tokens</th>\n",
              "      <th>statement</th>\n",
              "      <th>extremity_score</th>\n",
              "      <th>sentiment_bert</th>\n",
              "    </tr>\n",
              "  </thead>\n",
              "  <tbody>\n",
              "    <tr>\n",
              "      <th>0</th>\n",
              "      <td>[{'role': 'system', 'content': 'You are a EU p...</td>\n",
              "      <td>chatgpt</td>\n",
              "      <td>1</td>\n",
              "      <td>0.8</td>\n",
              "      <td>400</td>\n",
              "      <td>While the 2025 Trump administration's trade me...</td>\n",
              "      <td>-0.680280</td>\n",
              "      <td>[{'label': 'LABEL_0', 'score': 4.8054084777832...</td>\n",
              "    </tr>\n",
              "    <tr>\n",
              "      <th>1</th>\n",
              "      <td>[{'role': 'system', 'content': 'You are a EU p...</td>\n",
              "      <td>chatgpt</td>\n",
              "      <td>1</td>\n",
              "      <td>0.8</td>\n",
              "      <td>400</td>\n",
              "      <td>In response to the 2025 Trump administration's...</td>\n",
              "      <td>-0.832605</td>\n",
              "      <td>[{'label': 'LABEL_0', 'score': 4.35161018371582}]</td>\n",
              "    </tr>\n",
              "    <tr>\n",
              "      <th>2</th>\n",
              "      <td>[{'role': 'system', 'content': 'You are a EU p...</td>\n",
              "      <td>chatgpt</td>\n",
              "      <td>1</td>\n",
              "      <td>0.8</td>\n",
              "      <td>400</td>\n",
              "      <td>While we, as the European Union, respect the a...</td>\n",
              "      <td>-0.047196</td>\n",
              "      <td>[{'label': 'LABEL_0', 'score': 3.2020692825317...</td>\n",
              "    </tr>\n",
              "    <tr>\n",
              "      <th>3</th>\n",
              "      <td>[{'role': 'system', 'content': 'You are a EU p...</td>\n",
              "      <td>chatgpt</td>\n",
              "      <td>1</td>\n",
              "      <td>0.8</td>\n",
              "      <td>400</td>\n",
              "      <td>Thank you, Chair. In response to the 2025 Trum...</td>\n",
              "      <td>-0.546598</td>\n",
              "      <td>[{'label': 'LABEL_0', 'score': 4.3896393775939...</td>\n",
              "    </tr>\n",
              "    <tr>\n",
              "      <th>4</th>\n",
              "      <td>[{'role': 'system', 'content': 'You are a EU p...</td>\n",
              "      <td>chatgpt</td>\n",
              "      <td>1</td>\n",
              "      <td>0.8</td>\n",
              "      <td>400</td>\n",
              "      <td>Ladies and Gentlemen, in response to the 2025 ...</td>\n",
              "      <td>-0.759760</td>\n",
              "      <td>[{'label': 'LABEL_0', 'score': 4.1227674484252...</td>\n",
              "    </tr>\n",
              "    <tr>\n",
              "      <th>...</th>\n",
              "      <td>...</td>\n",
              "      <td>...</td>\n",
              "      <td>...</td>\n",
              "      <td>...</td>\n",
              "      <td>...</td>\n",
              "      <td>...</td>\n",
              "      <td>...</td>\n",
              "      <td>...</td>\n",
              "    </tr>\n",
              "    <tr>\n",
              "      <th>1995</th>\n",
              "      <td>[{'role': 'system', 'content': 'You are a EU p...</td>\n",
              "      <td>chatgpt</td>\n",
              "      <td>1</td>\n",
              "      <td>0.8</td>\n",
              "      <td>400</td>\n",
              "      <td>Ladies and Gentlemen, the recent trade measure...</td>\n",
              "      <td>-0.586082</td>\n",
              "      <td>[{'label': 'LABEL_0', 'score': 4.0336823463439...</td>\n",
              "    </tr>\n",
              "    <tr>\n",
              "      <th>1996</th>\n",
              "      <td>[{'role': 'system', 'content': 'You are a EU p...</td>\n",
              "      <td>chatgpt</td>\n",
              "      <td>1</td>\n",
              "      <td>0.8</td>\n",
              "      <td>400</td>\n",
              "      <td>Ladies and Gentlemen, as we find ourselves in ...</td>\n",
              "      <td>-0.690050</td>\n",
              "      <td>[{'label': 'LABEL_0', 'score': 2.2678394317626...</td>\n",
              "    </tr>\n",
              "    <tr>\n",
              "      <th>1997</th>\n",
              "      <td>[{'role': 'system', 'content': 'You are a EU p...</td>\n",
              "      <td>chatgpt</td>\n",
              "      <td>1</td>\n",
              "      <td>0.8</td>\n",
              "      <td>400</td>\n",
              "      <td>Ladies and Gentlemen, it is essential that we ...</td>\n",
              "      <td>-0.559931</td>\n",
              "      <td>[{'label': 'LABEL_0', 'score': 1.7046427726745...</td>\n",
              "    </tr>\n",
              "    <tr>\n",
              "      <th>1998</th>\n",
              "      <td>[{'role': 'system', 'content': 'You are a EU p...</td>\n",
              "      <td>chatgpt</td>\n",
              "      <td>1</td>\n",
              "      <td>0.8</td>\n",
              "      <td>400</td>\n",
              "      <td>Ladies and Gentlemen, the 2025 Trump administr...</td>\n",
              "      <td>-0.377260</td>\n",
              "      <td>[{'label': 'LABEL_0', 'score': 3.1762995719909...</td>\n",
              "    </tr>\n",
              "    <tr>\n",
              "      <th>1999</th>\n",
              "      <td>[{'role': 'system', 'content': 'You are a EU p...</td>\n",
              "      <td>chatgpt</td>\n",
              "      <td>1</td>\n",
              "      <td>0.8</td>\n",
              "      <td>400</td>\n",
              "      <td>Honorable colleagues, we must address the Trum...</td>\n",
              "      <td>-0.449371</td>\n",
              "      <td>[{'label': 'LABEL_0', 'score': 1.8389968872070...</td>\n",
              "    </tr>\n",
              "  </tbody>\n",
              "</table>\n",
              "<p>2000 rows × 8 columns</p>\n",
              "</div>"
            ],
            "text/plain": [
              "                                                 prompt provider  temperature  \\\n",
              "0     [{'role': 'system', 'content': 'You are a EU p...  chatgpt            1   \n",
              "1     [{'role': 'system', 'content': 'You are a EU p...  chatgpt            1   \n",
              "2     [{'role': 'system', 'content': 'You are a EU p...  chatgpt            1   \n",
              "3     [{'role': 'system', 'content': 'You are a EU p...  chatgpt            1   \n",
              "4     [{'role': 'system', 'content': 'You are a EU p...  chatgpt            1   \n",
              "...                                                 ...      ...          ...   \n",
              "1995  [{'role': 'system', 'content': 'You are a EU p...  chatgpt            1   \n",
              "1996  [{'role': 'system', 'content': 'You are a EU p...  chatgpt            1   \n",
              "1997  [{'role': 'system', 'content': 'You are a EU p...  chatgpt            1   \n",
              "1998  [{'role': 'system', 'content': 'You are a EU p...  chatgpt            1   \n",
              "1999  [{'role': 'system', 'content': 'You are a EU p...  chatgpt            1   \n",
              "\n",
              "      top_p  max_tokens                                          statement  \\\n",
              "0       0.8         400  While the 2025 Trump administration's trade me...   \n",
              "1       0.8         400  In response to the 2025 Trump administration's...   \n",
              "2       0.8         400  While we, as the European Union, respect the a...   \n",
              "3       0.8         400  Thank you, Chair. In response to the 2025 Trum...   \n",
              "4       0.8         400  Ladies and Gentlemen, in response to the 2025 ...   \n",
              "...     ...         ...                                                ...   \n",
              "1995    0.8         400  Ladies and Gentlemen, the recent trade measure...   \n",
              "1996    0.8         400  Ladies and Gentlemen, as we find ourselves in ...   \n",
              "1997    0.8         400  Ladies and Gentlemen, it is essential that we ...   \n",
              "1998    0.8         400  Ladies and Gentlemen, the 2025 Trump administr...   \n",
              "1999    0.8         400  Honorable colleagues, we must address the Trum...   \n",
              "\n",
              "      extremity_score                                     sentiment_bert  \n",
              "0           -0.680280  [{'label': 'LABEL_0', 'score': 4.8054084777832...  \n",
              "1           -0.832605  [{'label': 'LABEL_0', 'score': 4.35161018371582}]  \n",
              "2           -0.047196  [{'label': 'LABEL_0', 'score': 3.2020692825317...  \n",
              "3           -0.546598  [{'label': 'LABEL_0', 'score': 4.3896393775939...  \n",
              "4           -0.759760  [{'label': 'LABEL_0', 'score': 4.1227674484252...  \n",
              "...               ...                                                ...  \n",
              "1995        -0.586082  [{'label': 'LABEL_0', 'score': 4.0336823463439...  \n",
              "1996        -0.690050  [{'label': 'LABEL_0', 'score': 2.2678394317626...  \n",
              "1997        -0.559931  [{'label': 'LABEL_0', 'score': 1.7046427726745...  \n",
              "1998        -0.377260  [{'label': 'LABEL_0', 'score': 3.1762995719909...  \n",
              "1999        -0.449371  [{'label': 'LABEL_0', 'score': 1.8389968872070...  \n",
              "\n",
              "[2000 rows x 8 columns]"
            ]
          },
          "execution_count": 19,
          "metadata": {},
          "output_type": "execute_result"
        }
      ],
      "source": [
        "df_generated"
      ]
    },
    {
      "cell_type": "code",
      "execution_count": null,
      "id": "3a582774",
      "metadata": {},
      "outputs": [
        {
          "name": "stdout",
          "output_type": "stream",
          "text": [
            "Generated data sample:\n",
            "  sentiment_label  sentiment_score\n",
            "0         LABEL_0         4.805408\n",
            "1         LABEL_0         4.351610\n",
            "2         LABEL_0         3.202069\n",
            "3         LABEL_0         4.389639\n",
            "4         LABEL_0         4.122767\n",
            "\n",
            "Original data sample:\n",
            "  sentiment_label  sentiment_score\n",
            "0         LABEL_0        -0.015592\n",
            "1         LABEL_0         0.045495\n",
            "2         LABEL_0         4.742831\n",
            "3         LABEL_0         4.064230\n",
            "4         LABEL_0         0.126493\n"
          ]
        }
      ],
      "source": [
        "def extract_sentiment_parts(sentiment_data):\n",
        "    \"\"\"\n",
        "    Extracts the sentiment label and score from the sentiment_bert column data.\n",
        "    \n",
        "    Args:\n",
        "        sentiment_data: A dictionary containing 'label' and 'score' keys\n",
        "        \n",
        "    Returns:\n",
        "        tuple: (label, score) with the extracted values\n",
        "    \"\"\"\n",
        "    # Extract the first element from the list if it's a list\n",
        "    if isinstance(sentiment_data, list):\n",
        "        sentiment_data = sentiment_data[0]\n",
        "        \n",
        "    # Extract label and score\n",
        "    label = sentiment_data.get('label', '')\n",
        "    score = sentiment_data.get('score', 0.0)\n",
        "    \n",
        "    return label, score\n",
        "\n",
        "# Apply the function to create new columns\n",
        "df_generated['sentiment_label'] = df_generated['sentiment_bert'].apply(lambda x: extract_sentiment_parts(x)[0])\n",
        "df_generated['sentiment_score'] = df_generated['sentiment_bert'].apply(lambda x: extract_sentiment_parts(x)[1])\n",
        "\n",
        "df_original['sentiment_label'] = df_original['sentiment_bert'].apply(lambda x: extract_sentiment_parts(x)[0])\n",
        "df_original['sentiment_score'] = df_original['sentiment_bert'].apply(lambda x: extract_sentiment_parts(x)[1])\n",
        "\n",
        "# Display a sample of the results\n",
        "print(\"Generated data sample:\")\n",
        "print(df_generated[['sentiment_label', 'sentiment_score']].head())\n",
        "\n",
        "print(\"\\nOriginal data sample:\")\n",
        "print(df_original[['sentiment_label', 'sentiment_score']].head())"
      ]
    },
    {
      "cell_type": "code",
      "execution_count": null,
      "id": "60798b19",
      "metadata": {
        "colab": {
          "base_uri": "https://localhost:8080/"
        },
        "id": "60798b19",
        "outputId": "cf041361-4f21-4e44-dc8a-b1ad05da4693"
      },
      "outputs": [
        {
          "name": "stdout",
          "output_type": "stream",
          "text": [
            "Sentiment Analysis Results:\n",
            "+----------+------+---------+-------+------+-------+\n",
            "|  Source  | Mean | Std Dev |  Min  | Max  | Count |\n",
            "+----------+------+---------+-------+------+-------+\n",
            "| Original | 1.02 |   1.51  | -0.15 | 4.92 |  374  |\n",
            "| ChatGPT  | 3.51 |   1.14  | -0.05 | 5.01 |  1000 |\n",
            "| DeepSeek | 4.34 |   0.28  |  2.34 | 4.81 |  1000 |\n",
            "+----------+------+---------+-------+------+-------+\n"
          ]
        }
      ],
      "source": [
        "def get_descriptive_printout(sentiment_series):\n",
        "    \"\"\"Get descriptive statistics for a series of sentiment values\"\"\"\n",
        "    # Calculate the statistics\n",
        "    mean = sentiment_series.mean()\n",
        "    std = sentiment_series.std()\n",
        "    min_val = sentiment_series.min()\n",
        "    max_val = sentiment_series.max()\n",
        "    count = sentiment_series.count()\n",
        "    \n",
        "    # Return formatted values rounded to 2 decimal places\n",
        "    return [\n",
        "        round(mean, 2),\n",
        "        round(std, 2),\n",
        "        round(min_val, 2),\n",
        "        round(max_val, 2),\n",
        "        count\n",
        "    ]\n",
        "\n",
        "# Get sentiment statistics for original data\n",
        "sentiment_original = get_descriptive_printout(df_original['sentiment_score'])\n",
        "\n",
        "# Filter by provider\n",
        "is_chatgpt = df_generated['provider'] == 'chatgpt'\n",
        "is_deepseek = df_generated['provider'] == 'deepseek'\n",
        "\n",
        "# Get statistics for each provider\n",
        "sentiment_deepseek = get_descriptive_printout(df_generated[is_deepseek]['sentiment_score'])\n",
        "sentiment_chatgpt = get_descriptive_printout(df_generated[is_chatgpt]['sentiment_score'])\n",
        "\n",
        "# Create and format table\n",
        "sentiment_table = PrettyTable()\n",
        "sentiment_table.field_names = ['Source', 'Mean', 'Std Dev', 'Min', 'Max', 'Count']\n",
        "\n",
        "sentiment_table.add_row(['Original', *sentiment_original])\n",
        "sentiment_table.add_row(['ChatGPT', *sentiment_chatgpt])\n",
        "sentiment_table.add_row(['DeepSeek', *sentiment_deepseek])\n",
        "\n",
        "# Print table\n",
        "print('Sentiment Analysis Results:')\n",
        "print(sentiment_table)\n"
      ]
    },
    {
      "cell_type": "code",
      "execution_count": null,
      "id": "03477698",
      "metadata": {},
      "outputs": [
        {
          "data": {
            "image/png": "[encoded data removed]",
            "text/plain": [
              "<Figure size 1000x600 with 1 Axes>"
            ]
          },
          "metadata": {},
          "output_type": "display_data"
        }
      ],
      "source": [
        "import numpy as np\n",
        "import seaborn as sns\n",
        "\n",
        "import matplotlib.pyplot as plt\n",
        "\n",
        "# Set the style\n",
        "sns.set_style(\"whitegrid\")\n",
        "plt.figure(figsize=(10, 6))\n",
        "\n",
        "# Create scatter plots\n",
        "# sns.scatterplot(x='sentiment_score', y='extremity_score', data=df_original, \n",
        "#                 alpha=0.6, label='Original', color='red')\n",
        "\n",
        "sns.scatterplot(x='sentiment_score', y='extremity_score', data=df_generated[is_chatgpt], \n",
        "                alpha=0.6, label='ChatGPT', color='green')\n",
        "\n",
        "sns.scatterplot(x='sentiment_score', y='extremity_score', data=df_generated[is_deepseek], \n",
        "                alpha=0.6, label='DeepSeek', color='blue')\n",
        "\n",
        "# Add labels and title\n",
        "plt.xlabel('Sentiment [xlm-r-parlasent]', fontsize=12)\n",
        "plt.ylabel('Extremety [fine tuned Bert classifier])', fontsize=12)\n",
        "plt.title('Sentiment vs. Extremity Scores', fontsize=14)\n",
        "\n",
        "# Add legend\n",
        "plt.legend()\n",
        "\n",
        "plt.tight_layout()\n",
        "plt.show()"
      ]
    },
    {
      "cell_type": "code",
      "execution_count": null,
      "id": "2804f6c6",
      "metadata": {},
      "outputs": [],
      "source": []
    }
  ],
  "metadata": {
    "accelerator": "GPU",
    "colab": {
      "gpuType": "T4",
      "provenance": []
    },
    "kernelspec": {
      "display_name": "base",
      "language": "python",
      "name": "python3"
    },
    "language_info": {
      "codemirror_mode": {
        "name": "ipython",
        "version": 3
      },
      "file_extension": ".py",
      "mimetype": "text/x-python",
      "name": "python",
      "nbconvert_exporter": "python",
      "pygments_lexer": "ipython3",
      "version": "3.12.2"
    }
  },
  "nbformat": 4,
  "nbformat_minor": 5
}
