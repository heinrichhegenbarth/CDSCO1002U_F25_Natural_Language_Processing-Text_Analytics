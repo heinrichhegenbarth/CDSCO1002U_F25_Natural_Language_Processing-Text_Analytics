{
 "cells": [
  {
   "metadata": {
    "ExecuteTime": {
     "end_time": "2025-05-18T12:39:59.040522Z",
     "start_time": "2025-05-18T12:39:59.038420Z"
    }
   },
   "cell_type": "code",
   "source": "",
   "id": "c8c2ccdcbfabe112",
   "outputs": [],
   "execution_count": null
  },
  {
   "metadata": {
    "ExecuteTime": {
     "end_time": "2025-05-18T12:39:59.548060Z",
     "start_time": "2025-05-18T12:39:59.545278Z"
    }
   },
   "cell_type": "code",
   "source": "",
   "id": "fc2fd697c6ea52a6",
   "outputs": [],
   "execution_count": null
  },
  {
   "metadata": {
    "ExecuteTime": {
     "end_time": "2025-05-18T12:39:59.762665Z",
     "start_time": "2025-05-18T12:39:59.761455Z"
    }
   },
   "cell_type": "code",
   "source": "",
   "id": "d3f27aa574e46ac1",
   "outputs": [],
   "execution_count": null
  },
  {
   "metadata": {},
   "cell_type": "code",
   "outputs": [],
   "execution_count": null,
   "source": "",
   "id": "d340790d3428e906"
  }
 ],
 "metadata": {
  "kernelspec": {
   "display_name": "Python 3",
   "language": "python",
   "name": "python3"
  },
  "language_info": {
   "codemirror_mode": {
    "name": "ipython",
    "version": 2
   },
   "file_extension": ".py",
   "mimetype": "text/x-python",
   "name": "python",
   "nbconvert_exporter": "python",
   "pygments_lexer": "ipython2",
   "version": "2.7.6"
  }
 },
 "nbformat": 4,
 "nbformat_minor": 5
}
