{
 "cells": [
  {
   "cell_type": "markdown",
   "id": "5e0399a561283525",
   "metadata": {},
   "source": [
    "**DISCLAIMER:**\n",
    "- formally `notebook.ipynb` moved to from `./` to `./A_data_preparation/` (2025-05-27 H)\n",
    " \n",
    "This is the notebook for generating the LLM statements, should maybe be renamed and moved to `A_data_preperation`, but I dont want to fakk up the repo structure."
   ]
  },
  {
   "cell_type": "markdown",
   "id": "6a5c8e1a30ce90c8",
   "metadata": {},
   "source": [
    "<h3><center>Generating LLM Statements<center></h3>"
   ]
  },
  {
   "cell_type": "code",
   "execution_count": null,
   "id": "98004479a2da1a14",
   "metadata": {
    "ExecuteTime": {
     "end_time": "2025-05-21T08:31:43.407402Z",
     "start_time": "2025-05-21T08:31:43.116980Z"
    }
   },
   "outputs": [],
   "source": [
    "import asyncio\n",
    "from itertools import product\n",
    "from A_data_preperation.statements import Statements\n",
    "import pandas as pd"
   ]
  },
  {
   "cell_type": "code",
   "execution_count": null,
   "id": "bd17cf755ebea013",
   "metadata": {},
   "outputs": [],
   "source": [
    "async def make_test_statements(temperature: float, top_p: float):\n",
    "    statements = Statements(\n",
    "        topic=\"A EU response to the 2025 Trump administrations trade measures, and global trade opportunities for the EU\",\n",
    "        count=5\n",
    "    )\n",
    "    await statements.generate(provider=\"chatgpt\", temperature=temperature, top_p=top_p)\n",
    "    await statements.generate(provider=\"deepseek\", temperature=temperature, top_p=top_p)\n",
    "    statements.save(filename='data/test.csv')\n",
    "\n",
    "temperatures = [1.0, 0.9, 0.8, 0.7]\n",
    "top_p_values = [0.9, 0.8, 0.7]\n",
    "\n",
    "for temp, top_p in product(temperatures, top_p_values):\n",
    "    await make_test_statements(temperature=temp, top_p=top_p)"
   ]
  },
  {
   "cell_type": "code",
   "execution_count": null,
   "id": "6705f3a8e94d5380",
   "metadata": {},
   "outputs": [],
   "source": [
    "\n"
   ]
  },
  {
   "cell_type": "code",
   "execution_count": 6,
   "id": "5f1d7af65e3b301d",
   "metadata": {
    "ExecuteTime": {
     "end_time": "2025-05-21T09:17:23.978562Z",
     "start_time": "2025-05-21T09:11:08.457820Z"
    }
   },
   "outputs": [
    {
     "name": "stderr",
     "output_type": "stream",
     "text": [
      "gpt-4: 100%|██████████| 324/324 [06:15<00:00,  1.16s/it]\n"
     ]
    }
   ],
   "source": [
    "cache = []\n",
    "async def make_statements(temperature: float, top_p: float):\n",
    "    statements = Statements(\n",
    "        topic=\"A EU response to the 2025 Trump administrations trade measures, and global trade opportunities for the EU\",\n",
    "        count=324\n",
    "    )\n",
    "    await statements.generate(provider=\"chatgpt\", temperature=temperature, top_p=top_p)\n",
    "    #await statements.generate(provider=\"deepseek\", temperature=temperature, top_p=top_p)\n",
    "    cache.append(statements.datasets)\n",
    "    statements.save(filename='0_data/statements.csv')\n",
    "\n",
    "await make_statements(temperature=1, top_p=0.8)"
   ]
  },
  {
   "cell_type": "code",
   "execution_count": 7,
   "id": "465148b75e81b7cf",
   "metadata": {
    "ExecuteTime": {
     "end_time": "2025-05-21T09:23:37.639942Z",
     "start_time": "2025-05-21T09:23:37.595232Z"
    }
   },
   "outputs": [],
   "source": [
    "import pandas as pd\n",
    "statements = pd.read_csv('0_data/statements.csv')"
   ]
  },
  {
   "cell_type": "code",
   "execution_count": 8,
   "id": "cb1caf8a30d6cd07",
   "metadata": {
    "ExecuteTime": {
     "end_time": "2025-05-21T09:23:38.098155Z",
     "start_time": "2025-05-21T09:23:38.091418Z"
    }
   },
   "outputs": [
    {
     "data": {
      "text/html": [
       "<div>\n",
       "<style scoped>\n",
       "    .dataframe tbody tr th:only-of-type {\n",
       "        vertical-align: middle;\n",
       "    }\n",
       "\n",
       "    .dataframe tbody tr th {\n",
       "        vertical-align: top;\n",
       "    }\n",
       "\n",
       "    .dataframe thead th {\n",
       "        text-align: right;\n",
       "    }\n",
       "</style>\n",
       "<table border=\"1\" class=\"dataframe\">\n",
       "  <thead>\n",
       "    <tr style=\"text-align: right;\">\n",
       "      <th></th>\n",
       "      <th>prompt</th>\n",
       "      <th>provider</th>\n",
       "      <th>temperature</th>\n",
       "      <th>top_p</th>\n",
       "      <th>max_tokens</th>\n",
       "      <th>statement</th>\n",
       "    </tr>\n",
       "  </thead>\n",
       "  <tbody>\n",
       "    <tr>\n",
       "      <th>0</th>\n",
       "      <td>[{'role': 'system', 'content': 'You are a EU p...</td>\n",
       "      <td>chatgpt</td>\n",
       "      <td>1</td>\n",
       "      <td>0.8</td>\n",
       "      <td>400</td>\n",
       "      <td>While the 2025 Trump administration's trade me...</td>\n",
       "    </tr>\n",
       "    <tr>\n",
       "      <th>1</th>\n",
       "      <td>[{'role': 'system', 'content': 'You are a EU p...</td>\n",
       "      <td>chatgpt</td>\n",
       "      <td>1</td>\n",
       "      <td>0.8</td>\n",
       "      <td>400</td>\n",
       "      <td>In response to the 2025 Trump administration's...</td>\n",
       "    </tr>\n",
       "    <tr>\n",
       "      <th>2</th>\n",
       "      <td>[{'role': 'system', 'content': 'You are a EU p...</td>\n",
       "      <td>chatgpt</td>\n",
       "      <td>1</td>\n",
       "      <td>0.8</td>\n",
       "      <td>400</td>\n",
       "      <td>While we, as the European Union, respect the a...</td>\n",
       "    </tr>\n",
       "    <tr>\n",
       "      <th>3</th>\n",
       "      <td>[{'role': 'system', 'content': 'You are a EU p...</td>\n",
       "      <td>chatgpt</td>\n",
       "      <td>1</td>\n",
       "      <td>0.8</td>\n",
       "      <td>400</td>\n",
       "      <td>Thank you, Chair. In response to the 2025 Trum...</td>\n",
       "    </tr>\n",
       "    <tr>\n",
       "      <th>4</th>\n",
       "      <td>[{'role': 'system', 'content': 'You are a EU p...</td>\n",
       "      <td>chatgpt</td>\n",
       "      <td>1</td>\n",
       "      <td>0.8</td>\n",
       "      <td>400</td>\n",
       "      <td>Ladies and Gentlemen, in response to the 2025 ...</td>\n",
       "    </tr>\n",
       "    <tr>\n",
       "      <th>...</th>\n",
       "      <td>...</td>\n",
       "      <td>...</td>\n",
       "      <td>...</td>\n",
       "      <td>...</td>\n",
       "      <td>...</td>\n",
       "      <td>...</td>\n",
       "    </tr>\n",
       "    <tr>\n",
       "      <th>1995</th>\n",
       "      <td>[{'role': 'system', 'content': 'You are a EU p...</td>\n",
       "      <td>chatgpt</td>\n",
       "      <td>1</td>\n",
       "      <td>0.8</td>\n",
       "      <td>400</td>\n",
       "      <td>Ladies and Gentlemen, the recent trade measure...</td>\n",
       "    </tr>\n",
       "    <tr>\n",
       "      <th>1996</th>\n",
       "      <td>[{'role': 'system', 'content': 'You are a EU p...</td>\n",
       "      <td>chatgpt</td>\n",
       "      <td>1</td>\n",
       "      <td>0.8</td>\n",
       "      <td>400</td>\n",
       "      <td>Ladies and Gentlemen, as we find ourselves in ...</td>\n",
       "    </tr>\n",
       "    <tr>\n",
       "      <th>1997</th>\n",
       "      <td>[{'role': 'system', 'content': 'You are a EU p...</td>\n",
       "      <td>chatgpt</td>\n",
       "      <td>1</td>\n",
       "      <td>0.8</td>\n",
       "      <td>400</td>\n",
       "      <td>Ladies and Gentlemen, it is essential that we ...</td>\n",
       "    </tr>\n",
       "    <tr>\n",
       "      <th>1998</th>\n",
       "      <td>[{'role': 'system', 'content': 'You are a EU p...</td>\n",
       "      <td>chatgpt</td>\n",
       "      <td>1</td>\n",
       "      <td>0.8</td>\n",
       "      <td>400</td>\n",
       "      <td>Ladies and Gentlemen, the 2025 Trump administr...</td>\n",
       "    </tr>\n",
       "    <tr>\n",
       "      <th>1999</th>\n",
       "      <td>[{'role': 'system', 'content': 'You are a EU p...</td>\n",
       "      <td>chatgpt</td>\n",
       "      <td>1</td>\n",
       "      <td>0.8</td>\n",
       "      <td>400</td>\n",
       "      <td>Honorable colleagues, we must address the Trum...</td>\n",
       "    </tr>\n",
       "  </tbody>\n",
       "</table>\n",
       "<p>2000 rows × 6 columns</p>\n",
       "</div>"
      ],
      "text/plain": [
       "                                                 prompt provider  temperature  \\\n",
       "0     [{'role': 'system', 'content': 'You are a EU p...  chatgpt            1   \n",
       "1     [{'role': 'system', 'content': 'You are a EU p...  chatgpt            1   \n",
       "2     [{'role': 'system', 'content': 'You are a EU p...  chatgpt            1   \n",
       "3     [{'role': 'system', 'content': 'You are a EU p...  chatgpt            1   \n",
       "4     [{'role': 'system', 'content': 'You are a EU p...  chatgpt            1   \n",
       "...                                                 ...      ...          ...   \n",
       "1995  [{'role': 'system', 'content': 'You are a EU p...  chatgpt            1   \n",
       "1996  [{'role': 'system', 'content': 'You are a EU p...  chatgpt            1   \n",
       "1997  [{'role': 'system', 'content': 'You are a EU p...  chatgpt            1   \n",
       "1998  [{'role': 'system', 'content': 'You are a EU p...  chatgpt            1   \n",
       "1999  [{'role': 'system', 'content': 'You are a EU p...  chatgpt            1   \n",
       "\n",
       "      top_p  max_tokens                                          statement  \n",
       "0       0.8         400  While the 2025 Trump administration's trade me...  \n",
       "1       0.8         400  In response to the 2025 Trump administration's...  \n",
       "2       0.8         400  While we, as the European Union, respect the a...  \n",
       "3       0.8         400  Thank you, Chair. In response to the 2025 Trum...  \n",
       "4       0.8         400  Ladies and Gentlemen, in response to the 2025 ...  \n",
       "...     ...         ...                                                ...  \n",
       "1995    0.8         400  Ladies and Gentlemen, the recent trade measure...  \n",
       "1996    0.8         400  Ladies and Gentlemen, as we find ourselves in ...  \n",
       "1997    0.8         400  Ladies and Gentlemen, it is essential that we ...  \n",
       "1998    0.8         400  Ladies and Gentlemen, the 2025 Trump administr...  \n",
       "1999    0.8         400  Honorable colleagues, we must address the Trum...  \n",
       "\n",
       "[2000 rows x 6 columns]"
      ]
     },
     "execution_count": 8,
     "metadata": {},
     "output_type": "execute_result"
    }
   ],
   "source": [
    "statements"
   ]
  },
  {
   "cell_type": "code",
   "execution_count": 9,
   "id": "822fc55c4eb7ec31",
   "metadata": {
    "ExecuteTime": {
     "end_time": "2025-05-21T09:23:41.558270Z",
     "start_time": "2025-05-21T09:23:41.553464Z"
    }
   },
   "outputs": [
    {
     "data": {
      "text/plain": [
       "provider\n",
       "chatgpt     1000\n",
       "deepseek    1000\n",
       "Name: count, dtype: int64"
      ]
     },
     "execution_count": 9,
     "metadata": {},
     "output_type": "execute_result"
    }
   ],
   "source": [
    "statements.provider.value_counts()"
   ]
  },
  {
   "cell_type": "code",
   "execution_count": null,
   "id": "8b9ba3125684166e",
   "metadata": {},
   "outputs": [],
   "source": []
  }
 ],
 "metadata": {
  "kernelspec": {
   "display_name": "Python 3",
   "language": "python",
   "name": "python3"
  },
  "language_info": {
   "codemirror_mode": {
    "name": "ipython",
    "version": 2
   },
   "file_extension": ".py",
   "mimetype": "text/x-python",
   "name": "python",
   "nbconvert_exporter": "python",
   "pygments_lexer": "ipython2",
   "version": "2.7.6"
  }
 },
 "nbformat": 4,
 "nbformat_minor": 5
}
