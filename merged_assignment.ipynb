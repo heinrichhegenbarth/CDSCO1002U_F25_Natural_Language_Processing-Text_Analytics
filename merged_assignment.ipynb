{
 "cells": [
  {
   "cell_type": "markdown",
   "id": "b689e9be",
   "metadata": {},
   "source": [
    "- As we have to hand in one file for data, one file for our analysis and one file for our text, I would suggst to merge the entirety of the analysis into this wb. \n",
    "- maybe we can have the data generation in a seperate file. \n",
    "\n",
    "- I would also suggest putting all the code into functions that we can comment out the fn calls to not have to run the entire code over and over again"
   ]
  },
  {
   "cell_type": "code",
   "execution_count": null,
   "id": "6c19efc5",
   "metadata": {},
   "outputs": [],
   "source": [
    "# Import Packages"
   ]
  },
  {
   "cell_type": "code",
   "execution_count": null,
   "id": "49e7e71a",
   "metadata": {},
   "outputs": [],
   "source": [
    "# Import Data Frames"
   ]
  },
  {
   "cell_type": "markdown",
   "id": "4edf9062",
   "metadata": {},
   "source": [
    "## EDA"
   ]
  },
  {
   "cell_type": "markdown",
   "id": "2a9e8596",
   "metadata": {},
   "source": [
    "## Data Preparation"
   ]
  },
  {
   "cell_type": "code",
   "execution_count": null,
   "id": "fd83f2e9",
   "metadata": {},
   "outputs": [],
   "source": [
    "# inner joining data framers into one"
   ]
  },
  {
   "cell_type": "markdown",
   "id": "f1305279",
   "metadata": {},
   "source": [
    "### Defining preprocessing pipelines"
   ]
  },
  {
   "cell_type": "markdown",
   "id": "e2a5842e",
   "metadata": {},
   "source": [
    "## Analysis"
   ]
  },
  {
   "cell_type": "code",
   "execution_count": null,
   "id": "ad2f3874",
   "metadata": {},
   "outputs": [],
   "source": [
    "# Topic modeling"
   ]
  },
  {
   "cell_type": "code",
   "execution_count": null,
   "id": "90d0083d",
   "metadata": {},
   "outputs": [],
   "source": [
    "# Sentiment Analysis"
   ]
  },
  {
   "cell_type": "code",
   "execution_count": null,
   "id": "4188b961",
   "metadata": {},
   "outputs": [],
   "source": [
    "# Extremity Regression"
   ]
  },
  {
   "cell_type": "code",
   "execution_count": null,
   "id": "31661c01",
   "metadata": {},
   "outputs": [],
   "source": [
    "def main():\n",
    "    # run all functions in here:\n",
    "    pass\n",
    "\n",
    "if __name__ == \"__main__\": \n",
    "    main()"
   ]
  }
 ],
 "metadata": {
  "kernelspec": {
   "display_name": "base",
   "language": "python",
   "name": "python3"
  },
  "language_info": {
   "name": "python",
   "version": "3.12.2"
  }
 },
 "nbformat": 4,
 "nbformat_minor": 5
}
